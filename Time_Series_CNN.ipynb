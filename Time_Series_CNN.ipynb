{
  "cells": [
    {
      "cell_type": "code",
      "execution_count": null,
      "id": "recognized-detroit",
      "metadata": {
        "id": "recognized-detroit"
      },
      "outputs": [],
      "source": [
        "#import sys\n",
        "import numpy as np\n",
        "import pandas as pd\n",
        "import matplotlib.pyplot as plt\n",
        "import tensorflow as tf\n",
        "import statistics as st\n",
        "import keras\n",
        "from imblearn.under_sampling import RandomUnderSampler\n",
        "from keras.utils import to_categorical\n",
        "from keras.models import Sequential\n",
        "from keras.layers import Conv1D, MaxPooling1D, Flatten, Dense, Activation, Dropout\n",
        "from tensorflow.python.keras import regularizers\n",
        "from keras.optimizers import Adam\n",
        "from sklearn.metrics import classification_report\n",
        "#!{sys.executable} -m pip install keras"
      ]
    },
    {
      "cell_type": "markdown",
      "id": "useful-kruger",
      "metadata": {
        "id": "useful-kruger"
      },
      "source": [
        "# Preprocessing"
      ]
    },
    {
      "cell_type": "code",
      "execution_count": null,
      "id": "divine-cooperative",
      "metadata": {
        "id": "divine-cooperative"
      },
      "outputs": [],
      "source": [
        "\"\"\"\n",
        "    Based on the training data given, we are able to extract 7 attributes:\n",
        "    1. x accelerometer measurement\n",
        "    2. y accelerometer measurement\n",
        "    3. z accelerometer measurement\n",
        "    4. x gyroscope measurement\n",
        "    5. y gyroscope measurement\n",
        "    6. z gyroscope measurement\n",
        "    7. time stamp for accelerometer and gyroscope measures\n",
        "\n",
        "    We start by creating a dataframe using the csv files provided for readability.\n",
        "\n",
        "    @param x_file: contains the xyz accelerometers and xyz gyroscope measures from the lower limb\n",
        "    @param x_time_file: contain the time stamps for the accelerometer and gyroscope measures\n",
        "    @return dataframe of 7 attributes mentioned\n",
        "\"\"\"\n",
        "def create_dataframe_X(x_file, x_time_file):\n",
        "    df1 = pd.read_csv(x_file, sep = ',', names = ['X_acc', 'Y_acc', 'Z_acc', 'X_gyr', 'Y_gyr', 'Z_gyr'])\n",
        "    df2 = pd.read_csv(x_time_file, names = ['Time stamp'])\n",
        "    frames = [df1, df2]\n",
        "    result = pd.concat(frames, axis = 1)\n",
        "    return result\n",
        "\n",
        "\"\"\"\n",
        "    We have both the labels and the time stamps for the labels. We create a dataframe from these for\n",
        "    readability.\n",
        "\n",
        "    @param y_file: contain the labels:\n",
        "        (0) indicates standing or walking in solid ground,\n",
        "        (1) indicates going down the stairs,\n",
        "        (2) indicates going up the stairs, and\n",
        "        (3) indicates walking on grass\n",
        "    @param y_time_file: contain the time stamps for the labels\n",
        "    @return dataframe of labels and time stamps\n",
        "\"\"\"\n",
        "def create_dataframe_Y(y_file, y_time_file):\n",
        "    df1 = pd.read_csv(y_file, names = ['Label'])\n",
        "    df2 = pd.read_csv(y_time_file, names = ['Time stamp'])\n",
        "    frames = [df1, df2]\n",
        "    result = pd.concat(frames, axis = 1)\n",
        "    return result\n",
        "\n",
        "\"\"\"\n",
        "    We take the outputs of create_dataframe_X and create_dataframe_Y. In order to combine both of these\n",
        "    dataframes, we need look at the time intervals present for when the labels were assigned. The goal is\n",
        "    to return a dataframe that now has an eighth column in addition to the seven columns from the dataframe\n",
        "    from create_dataframe_X. Additionally, we know that x_frame contains more values than y_frame. We want to\n",
        "    map these labels accordingly. In the end, we drop data points that have missing values.\n",
        "\n",
        "    @param x_frame: dataframe from create_dataframe_X\n",
        "    @param y_frame: dataframe from create_dataframe_Y\n",
        "    @return dataframe with 8 columns (7 attributes and label)\n",
        "\"\"\"\n",
        "def combine_frames(x_frame, y_frame):\n",
        "    # Change each dataframe column to a list for iterations\n",
        "    labels = y_frame['Label'].tolist()\n",
        "    df1=pd.concat((x_frame, y_frame),axis=1)\n",
        "    df1.style\n",
        "    time_stamp_y = y_frame['Time stamp'].tolist()\n",
        "    time_stamp_x = x_frame['Time stamp'].tolist()\n",
        "\n",
        "    labels_for_x = [] # Create empty list to gather corresponding labels for x_frame\n",
        "    count = 0\n",
        "    for i in range(0, len(time_stamp_y)):\n",
        "        while (time_stamp_x[count] <= time_stamp_y[i]) and (count <= len(time_stamp_x)):\n",
        "            labels_for_x.append(labels[i])\n",
        "            count += 1\n",
        "        continue\n",
        "\n",
        "    # Concatenate the dataframes\n",
        "    label_df = pd.DataFrame(labels_for_x, columns = ['Label']) # Convert list back to data frame\n",
        "    label_df.style\n",
        "    combined_frame = pd.concat([x_frame, label_df], axis = 1)\n",
        "\n",
        "    # Drop missing values at the end\n",
        "    combined_frame = combined_frame.dropna()\n",
        "\n",
        "    # Drop 'Time stamp' column\n",
        "    combined_frame = combined_frame.drop(columns = ['Time stamp'])\n",
        "    return combined_frame"
      ]
    },
    {
      "cell_type": "code",
      "execution_count": null,
      "id": "frozen-batman",
      "metadata": {
        "id": "frozen-batman"
      },
      "outputs": [],
      "source": [
        "\"\"\"\n",
        "    Generating data frames from training data.\n",
        "\"\"\"\n",
        "# Subject_001_01\n",
        "df_x_1_1 = create_dataframe_X('TrainingData/subject_001_01__x.csv', 'TrainingData/subject_001_01__x_time.csv')\n",
        "df_y_1_1 = create_dataframe_Y('TrainingData/subject_001_01__y.csv', 'TrainingData/subject_001_01__y_time.csv')\n",
        "frame_1_1 = combine_frames(df_x_1_1, df_y_1_1)\n",
        "\n",
        "# Subject_001_02\n",
        "df_x_1_2 = create_dataframe_X('TrainingData/subject_001_02__x.csv', 'TrainingData/subject_001_02__x_time.csv')\n",
        "df_y_1_2 = create_dataframe_Y('TrainingData/subject_001_02__y.csv', 'TrainingData/subject_001_02__y_time.csv')\n",
        "frame_1_2 = combine_frames(df_x_1_2, df_y_1_2)\n",
        "\n",
        "# Subject_001_03\n",
        "df_x_1_3 = create_dataframe_X('TrainingData/subject_001_03__x.csv', 'TrainingData/subject_001_03__x_time.csv')\n",
        "df_y_1_3 = create_dataframe_Y('TrainingData/subject_001_03__y.csv', 'TrainingData/subject_001_03__y_time.csv')\n",
        "frame_1_3 = combine_frames(df_x_1_3, df_y_1_3)\n",
        "\n",
        "# Subject_001_04\n",
        "df_x_1_4 = create_dataframe_X('TrainingData/subject_001_04__x.csv', 'TrainingData/subject_001_04__x_time.csv')\n",
        "df_y_1_4 = create_dataframe_Y('TrainingData/subject_001_04__y.csv', 'TrainingData/subject_001_04__y_time.csv')\n",
        "frame_1_4 = combine_frames(df_x_1_4, df_y_1_4)\n",
        "\n",
        "# Subject_001_05\n",
        "df_x_1_5 = create_dataframe_X('TrainingData/subject_001_05__x.csv', 'TrainingData/subject_001_05__x_time.csv')\n",
        "df_y_1_5 = create_dataframe_Y('TrainingData/subject_001_05__y.csv', 'TrainingData/subject_001_05__y_time.csv')\n",
        "frame_1_5 = combine_frames(df_x_1_5, df_y_1_5)\n",
        "\n",
        "# Subject_001_06\n",
        "df_x_1_6 = create_dataframe_X('TrainingData/subject_001_06__x.csv', 'TrainingData/subject_001_06__x_time.csv')\n",
        "df_y_1_6 = create_dataframe_Y('TrainingData/subject_001_06__y.csv', 'TrainingData/subject_001_06__y_time.csv')\n",
        "frame_1_6 = combine_frames(df_x_1_6, df_y_1_6)\n",
        "\n",
        "# Subject_001_07\n",
        "df_x_1_7 = create_dataframe_X('TrainingData/subject_001_07__x.csv', 'TrainingData/subject_001_07__x_time.csv')\n",
        "df_y_1_7 = create_dataframe_Y('TrainingData/subject_001_07__y.csv', 'TrainingData/subject_001_07__y_time.csv')\n",
        "frame_1_7 = combine_frames(df_x_1_7, df_y_1_7)\n",
        "\n",
        "# Subject_001_08\n",
        "df_x_1_8 = create_dataframe_X('TrainingData/subject_001_08__x.csv', 'TrainingData/subject_001_08__x_time.csv')\n",
        "df_y_1_8 = create_dataframe_Y('TrainingData/subject_001_08__y.csv', 'TrainingData/subject_001_08__y_time.csv')\n",
        "frame_1_8 = combine_frames(df_x_1_8, df_y_1_8)\n",
        "\n",
        "# Subject_002_01\n",
        "df_x_2_1 = create_dataframe_X('TrainingData/subject_002_01__x.csv', 'TrainingData/subject_002_01__x_time.csv')\n",
        "df_y_2_1 = create_dataframe_Y('TrainingData/subject_002_01__y.csv', 'TrainingData/subject_002_01__y_time.csv')\n",
        "frame_2_1 = combine_frames(df_x_2_1, df_y_2_1)\n",
        "\n",
        "# Subject_002_02\n",
        "df_x_2_2 = create_dataframe_X('TrainingData/subject_002_02__x.csv', 'TrainingData/subject_002_02__x_time.csv')\n",
        "df_y_2_2 = create_dataframe_Y('TrainingData/subject_002_02__y.csv', 'TrainingData/subject_002_02__y_time.csv')\n",
        "frame_2_2 = combine_frames(df_x_2_2, df_y_2_2)\n",
        "\n",
        "# Subject_002_03\n",
        "df_x_2_3 = create_dataframe_X('TrainingData/subject_002_03__x.csv', 'TrainingData/subject_002_03__x_time.csv')\n",
        "df_y_2_3 = create_dataframe_Y('TrainingData/subject_002_03__y.csv', 'TrainingData/subject_002_03__y_time.csv')\n",
        "frame_2_3 = combine_frames(df_x_2_3, df_y_2_3)\n",
        "\n",
        "# Subject_002_04\n",
        "df_x_2_4 = create_dataframe_X('TrainingData/subject_001_04__x.csv', 'TrainingData/subject_001_04__x_time.csv')\n",
        "df_y_2_4 = create_dataframe_Y('TrainingData/subject_001_04__y.csv', 'TrainingData/subject_001_04__y_time.csv')\n",
        "frame_2_4 = combine_frames(df_x_2_4, df_y_2_4)\n",
        "\n",
        "# Subject_002_05\n",
        "df_x_2_5 = create_dataframe_X('TrainingData/subject_002_05__x.csv', 'TrainingData/subject_002_05__x_time.csv')\n",
        "df_y_2_5 = create_dataframe_Y('TrainingData/subject_002_05__y.csv', 'TrainingData/subject_002_05__y_time.csv')\n",
        "frame_2_5 = combine_frames(df_x_2_5, df_y_2_5)\n",
        "\n",
        "# Subject_003_01\n",
        "df_x_3_1 = create_dataframe_X('TrainingData/subject_003_01__x.csv', 'TrainingData/subject_003_01__x_time.csv')\n",
        "df_y_3_1 = create_dataframe_Y('TrainingData/subject_003_01__y.csv', 'TrainingData/subject_003_01__y_time.csv')\n",
        "frame_3_1 = combine_frames(df_x_3_1, df_y_3_1)\n",
        "\n",
        "# Subject_003_02\n",
        "df_x_3_2 = create_dataframe_X('TrainingData/subject_003_02__x.csv', 'TrainingData/subject_003_02__x_time.csv')\n",
        "df_y_3_2 = create_dataframe_Y('TrainingData/subject_003_02__y.csv', 'TrainingData/subject_003_02__y_time.csv')\n",
        "frame_3_2 = combine_frames(df_x_3_2, df_y_3_2)\n",
        "\n",
        "# Subject_003_03\n",
        "df_x_3_3 = create_dataframe_X('TrainingData/subject_003_03__x.csv', 'TrainingData/subject_003_03__x_time.csv')\n",
        "df_y_3_3 = create_dataframe_Y('TrainingData/subject_003_03__y.csv', 'TrainingData/subject_003_03__y_time.csv')\n",
        "frame_3_3 = combine_frames(df_x_3_3, df_y_3_3)\n",
        "\n",
        "# Subject_004_01\n",
        "df_x_4_1 = create_dataframe_X('TrainingData/subject_004_01__x.csv', 'TrainingData/subject_004_01__x_time.csv')\n",
        "df_y_4_1 = create_dataframe_Y('TrainingData/subject_004_01__y.csv', 'TrainingData/subject_004_01__y_time.csv')\n",
        "frame_4_1 = combine_frames(df_x_4_1, df_y_4_1)\n",
        "\n",
        "# Subject_004_02\n",
        "df_x_4_2 = create_dataframe_X('TrainingData/subject_004_02__x.csv', 'TrainingData/subject_004_02__x_time.csv')\n",
        "df_y_4_2 = create_dataframe_Y('TrainingData/subject_004_02__y.csv', 'TrainingData/subject_004_02__y_time.csv')\n",
        "frame_4_2 = combine_frames(df_x_4_2, df_y_4_2)\n",
        "\n",
        "# Subject_005_01\n",
        "df_x_5_1 = create_dataframe_X('TrainingData/subject_005_01__x.csv', 'TrainingData/subject_005_01__x_time.csv')\n",
        "df_y_5_1 = create_dataframe_Y('TrainingData/subject_005_01__y.csv', 'TrainingData/subject_005_01__y_time.csv')\n",
        "frame_5_1 = combine_frames(df_x_5_1, df_y_5_1)\n",
        "\n",
        "# Subject_005_02\n",
        "df_x_5_2 = create_dataframe_X('TrainingData/subject_005_02__x.csv', 'TrainingData/subject_005_02__x_time.csv')\n",
        "df_y_5_2 = create_dataframe_Y('TrainingData/subject_005_02__y.csv', 'TrainingData/subject_005_02__y_time.csv')\n",
        "frame_5_2 = combine_frames(df_x_5_2, df_y_5_2)\n",
        "\n",
        "# Subject_005_03\n",
        "df_x_5_3 = create_dataframe_X('TrainingData/subject_005_03__x.csv', 'TrainingData/subject_005_03__x_time.csv')\n",
        "df_y_5_3 = create_dataframe_Y('TrainingData/subject_005_03__y.csv', 'TrainingData/subject_005_03__y_time.csv')\n",
        "frame_5_3 = combine_frames(df_x_5_3, df_y_5_3)\n",
        "\n",
        "# Subject_006_01\n",
        "df_x_6_1 = create_dataframe_X('TrainingData/subject_006_01__x.csv', 'TrainingData/subject_006_01__x_time.csv')\n",
        "df_y_6_1 = create_dataframe_Y('TrainingData/subject_006_01__y.csv', 'TrainingData/subject_006_01__y_time.csv')\n",
        "frame_6_1 = combine_frames(df_x_6_1, df_y_6_1)\n",
        "\n",
        "# Subject_006_02\n",
        "df_x_6_2 = create_dataframe_X('TrainingData/subject_006_02__x.csv', 'TrainingData/subject_006_02__x_time.csv')\n",
        "df_y_6_2 = create_dataframe_Y('TrainingData/subject_006_02__y.csv', 'TrainingData/subject_006_02__y_time.csv')\n",
        "frame_6_2 = combine_frames(df_x_6_2, df_y_6_2)\n",
        "\n",
        "# Subject_006_03\n",
        "df_x_6_3 = create_dataframe_X('TrainingData/subject_006_03__x.csv', 'TrainingData/subject_006_03__x_time.csv')\n",
        "df_y_6_3 = create_dataframe_Y('TrainingData/subject_006_03__y.csv', 'TrainingData/subject_006_03__y_time.csv')\n",
        "frame_6_3 = combine_frames(df_x_6_3, df_y_6_3)\n",
        "\n",
        "# Subject_007_01\n",
        "df_x_7_1 = create_dataframe_X('TrainingData/subject_007_01__x.csv', 'TrainingData/subject_007_01__x_time.csv')\n",
        "df_y_7_1 = create_dataframe_Y('TrainingData/subject_007_01__y.csv', 'TrainingData/subject_007_01__y_time.csv')\n",
        "frame_7_1 = combine_frames(df_x_7_1, df_y_7_1)\n",
        "\n",
        "# Subject_007_02\n",
        "df_x_7_2 = create_dataframe_X('TrainingData/subject_007_02__x.csv', 'TrainingData/subject_007_02__x_time.csv')\n",
        "df_y_7_2 = create_dataframe_Y('TrainingData/subject_007_02__y.csv', 'TrainingData/subject_007_02__y_time.csv')\n",
        "frame_7_2 = combine_frames(df_x_7_2, df_y_7_2)\n",
        "\n",
        "# Subject_007_03\n",
        "df_x_7_3 = create_dataframe_X('TrainingData/subject_007_03__x.csv', 'TrainingData/subject_007_03__x_time.csv')\n",
        "df_y_7_3 = create_dataframe_Y('TrainingData/subject_007_03__y.csv', 'TrainingData/subject_007_03__y_time.csv')\n",
        "frame_7_3 = combine_frames(df_x_7_3, df_y_7_3)\n",
        "\n",
        "# Subject_007_04\n",
        "df_x_7_4 = create_dataframe_X('TrainingData/subject_007_04__x.csv', 'TrainingData/subject_007_04__x_time.csv')\n",
        "df_y_7_4 = create_dataframe_Y('TrainingData/subject_007_04__y.csv', 'TrainingData/subject_007_04__y_time.csv')\n",
        "frame_7_4 = combine_frames(df_x_7_4, df_y_7_4)\n",
        "\n",
        "# Subject_008_01\n",
        "df_x_8_1 = create_dataframe_X('TrainingData/subject_008_01__x.csv', 'TrainingData/subject_008_01__x_time.csv')\n",
        "df_y_8_1 = create_dataframe_Y('TrainingData/subject_008_01__y.csv', 'TrainingData/subject_008_01__y_time.csv')\n",
        "frame_8_1 = combine_frames(df_x_8_1, df_y_8_1)"
      ]
    },
    {
      "cell_type": "code",
      "execution_count": null,
      "id": "abstract-baseline",
      "metadata": {
        "id": "abstract-baseline"
      },
      "outputs": [],
      "source": [
        "\"\"\"\n",
        "    Combining all data frames.\n",
        "\"\"\"\n",
        "frame_list = [frame_1_1, frame_1_2, frame_1_3, frame_1_4, frame_1_5, frame_1_6, frame_1_7, frame_1_8,\n",
        "             frame_2_1, frame_2_2, frame_2_3, frame_2_4, frame_2_5,\n",
        "             frame_3_1, frame_3_2, frame_3_3,\n",
        "             frame_4_1, frame_4_2,\n",
        "             frame_5_1, frame_5_2, frame_5_3,\n",
        "             frame_6_1, frame_6_2, frame_6_3,\n",
        "             frame_7_1, frame_7_2, frame_7_3, frame_7_4,\n",
        "             frame_8_1]\n",
        "data = pd.concat(frame_list)"
      ]
    },
    {
      "cell_type": "code",
      "execution_count": null,
      "id": "graduate-chapter",
      "metadata": {
        "id": "graduate-chapter"
      },
      "outputs": [],
      "source": [
        "# Create X and y\n",
        "X = data[['X_acc', 'Y_acc', 'Z_acc', 'X_gyr', 'Y_gyr', 'Z_gyr']]\n",
        "y = data['Label']"
      ]
    },
    {
      "cell_type": "code",
      "execution_count": null,
      "id": "israeli-universe",
      "metadata": {
        "id": "israeli-universe"
      },
      "outputs": [],
      "source": [
        "item0 = X.iloc[0::4,].reset_index()\n",
        "item1 = X.iloc[1::4,].reset_index()\n",
        "item2 = X.iloc[2::4,].reset_index()\n",
        "item3 = X.iloc[3::4,].reset_index()\n",
        "new_X = pd.concat([item0, item1, item2, item3], axis = 1, ignore_index = True)\n",
        "new_y = y.iloc[::4].reset_index()\n",
        "new_X = new_X.dropna()\n",
        "new_X = new_X.drop(columns = [0, 7, 14, 21])\n",
        "new_y = new_y.iloc[0:336265]\n",
        "new_y = new_y.drop(columns = [\"index\"])"
      ]
    },
    {
      "cell_type": "code",
      "execution_count": null,
      "id": "collectible-township",
      "metadata": {
        "id": "collectible-township"
      },
      "outputs": [],
      "source": [
        "# Performing random undersampling on the data\n",
        "rus = RandomUnderSampler(random_state=0)\n",
        "X_resampled, y_resampled = rus.fit_resample(new_X, new_y)\n",
        "data_resampled = pd.concat([X_resampled, y_resampled], axis = 1)"
      ]
    },
    {
      "cell_type": "markdown",
      "id": "alert-little",
      "metadata": {
        "id": "alert-little"
      },
      "source": [
        "# Training, Validation, Test Sets"
      ]
    },
    {
      "cell_type": "code",
      "execution_count": null,
      "id": "elect-pollution",
      "metadata": {
        "id": "elect-pollution"
      },
      "outputs": [],
      "source": [
        "\"\"\"\n",
        "    Creating training, validation, and test sets from a data frame.\n",
        "\n",
        "    @param frame: dataframe passed in\n",
        "    @return training, validation, and test sets created from frame passed in\n",
        "\"\"\"\n",
        "def training_validation_test_split(frame):\n",
        "    frame_copy = frame.copy()\n",
        "    training_set = frame_copy.sample(frac = 0.75, random_state = 0)\n",
        "    val_temp = frame_copy.drop(training_set.index)\n",
        "    validation_set = val_temp.sample(frac = 0.5, random_state = 0)\n",
        "    test_set = val_temp.drop(validation_set.index)\n",
        "    return training_set, validation_set, test_set\n",
        "\n",
        "training, val, test = training_validation_test_split(data_resampled)"
      ]
    },
    {
      "cell_type": "markdown",
      "id": "satisfied-retirement",
      "metadata": {
        "id": "satisfied-retirement"
      },
      "source": [
        "# Model Training"
      ]
    },
    {
      "cell_type": "code",
      "execution_count": null,
      "id": "eastern-seventh",
      "metadata": {
        "id": "eastern-seventh"
      },
      "outputs": [],
      "source": [
        "# Defining a function for plotting training and validation learning curves\n",
        "def plot_history(history):\n",
        "\t# plot loss\n",
        "    plt.title('Loss')\n",
        "    plt.plot(history.history['loss'], color='blue', label='train')\n",
        "    plt.plot(history.history['val_loss'], color='red', label='test')\n",
        "    plt.ylabel('Loss')\n",
        "    plt.xlabel('Epoch')\n",
        "    plt.legend(['Train', 'Validation'])\n",
        "    plt.show()\n",
        "\n",
        "    # plot accuracy\n",
        "    plt.title('Accuracy')\n",
        "    plt.plot(history.history['accuracy'], color='blue', label='train')\n",
        "    plt.plot(history.history['val_accuracy'], color='red', label='test')\n",
        "    plt.ylabel('Accuracy')\n",
        "    plt.xlabel('Epoch')\n",
        "    plt.legend(['Train', 'Validation'])\n",
        "    plt.show()\n"
      ]
    },
    {
      "cell_type": "code",
      "execution_count": null,
      "id": "ethical-upgrade",
      "metadata": {
        "id": "ethical-upgrade",
        "outputId": "d5eaedf1-941c-4140-ab00-f7d8da1e0796"
      },
      "outputs": [],
      "source": [
        "# Define a CNN model\n",
        "# from https://www.datatechnotes.com/2020/02/classification-example-with-keras-cnn.html\n",
        "def define_CNN_model(drop_rate, l1_value, l2_value):\n",
        "    model = Sequential()\n",
        "\n",
        "    model.add(Conv1D(128, 2, activation=\"relu\",\n",
        "                     kernel_regularizer=regularizers.l1_l2(l1=l1_value, l2=l2_value),\n",
        "                     input_shape=(24,1)))\n",
        "    model.add(MaxPooling1D())\n",
        "    model.add(Flatten())\n",
        "    model.add(Dropout(rate = drop_rate))\n",
        "    model.add(Dense(64, activation=\"relu\"))\n",
        "    model.add(Dropout(rate = drop_rate))\n",
        "    model.add(Dense(4, activation = 'softmax'))\n",
        "    model.compile(loss = 'categorical_crossentropy', optimizer = \"adam\", metrics = ['accuracy'])\n",
        "\n",
        "    return model\n",
        "\n",
        "# Creating an instance\n",
        "model_d3 = define_CNN_model(0.1, 0.01, 0.01)\n",
        "model_d3.summary()"
      ]
    },
    {
      "cell_type": "code",
      "execution_count": null,
      "id": "raising-religion",
      "metadata": {
        "id": "raising-religion"
      },
      "outputs": [],
      "source": [
        "# Create X and y for training data\n",
        "training_X = training[[1, 2, 3, 4, 5, 6, 8, 9, 10, 11, 12, 13, 15, 16, 17, 18, 19, 20, 22, 23, 24, 25, 26, 27]]\n",
        "training_X = np.expand_dims(training_X, axis = 2) # Reshape\n",
        "training_y = training['Label']\n",
        "training_y_encoded = to_categorical(training_y) # One-hot encoding\n",
        "\n",
        "# Create X and y for validation data\n",
        "val_X = val[[1, 2, 3, 4, 5, 6, 8, 9, 10, 11, 12, 13, 15, 16, 17, 18, 19, 20, 22, 23, 24, 25, 26, 27]]\n",
        "val_X = np.expand_dims(val_X, axis = 2) # Reshape\n",
        "val_y = val['Label']\n",
        "val_y_encoded = to_categorical(val_y) # One-hot encoding\n",
        "tf.config.run_functions_eagerly(True)"
      ]
    },
    {
      "cell_type": "code",
      "execution_count": 36,
      "id": "acoustic-carroll",
      "metadata": {
        "id": "acoustic-carroll",
        "outputId": "faeef844-5e4b-4b65-b868-2380172b42ef"
      },
      "outputs": [
        {
          "name": "stdout",
          "output_type": "stream",
          "text": [
            "Fitting the  1 / 48  model\n",
            "{'loss': [1.269618272781372, 1.031218409538269, 0.9661954641342163, 0.9198933839797974, 0.8907322883605957, 0.8670423626899719, 0.85551518201828, 0.8437132239341736, 0.831277072429657, 0.8242282867431641], 'accuracy': [0.46390199661254883, 0.5693104267120361, 0.6030247211456299, 0.6245580315589905, 0.6353475451469421, 0.6450648903846741, 0.6479162573814392, 0.6538926362991333, 0.6608955264091492, 0.6627888679504395], 'val_loss': [1.0586318969726562, 0.9497129321098328, 0.8910585641860962, 0.8547087907791138, 0.8269664645195007, 0.8025203943252563, 0.78865647315979, 0.7918187379837036, 0.7686259150505066, 0.7642157077789307], 'val_accuracy': [0.5511907935142517, 0.6238707900047302, 0.6405693888664246, 0.6609635949134827, 0.6661648154258728, 0.6693128943443298, 0.6835477948188782, 0.6765671968460083, 0.6873802542686462, 0.6809471845626831]}\n",
            "Fitting the  2 / 48  model\n"
          ]
        },
        {
          "name": "stderr",
          "output_type": "stream",
          "text": [
            "/opt/homebrew/lib/python3.11/site-packages/tensorflow/python/data/ops/structured_function.py:258: UserWarning: Even though the `tf.config.experimental_run_functions_eagerly` option is set, this option does not apply to tf.data functions. To force eager execution of tf.data functions, please use `tf.data.experimental.enable_debug_mode()`.\n",
            "  warnings.warn(\n"
          ]
        },
        {
          "name": "stdout",
          "output_type": "stream",
          "text": [
            "{'loss': [1.2243478298187256, 0.9774268269538879, 0.9097023606300354, 0.8675592541694641, 0.8402531147003174, 0.8236266374588013, 0.8029268980026245, 0.7950762510299683, 0.7821030020713806, 0.7763043642044067], 'accuracy': [0.5075617432594299, 0.6032071709632874, 0.6367617845535278, 0.6521362066268921, 0.6631309986114502, 0.6685371398925781, 0.6779123544692993, 0.6796003580093384, 0.6831132173538208, 0.6853486895561218], 'val_loss': [1.00352144241333, 0.8875818848609924, 0.8402817249298096, 0.8143747448921204, 0.7740896940231323, 0.748639702796936, 0.735497236251831, 0.7305999398231506, 0.7436634302139282, 0.7148676514625549], 'val_accuracy': [0.6068984270095825, 0.6470024585723877, 0.6709553599357605, 0.6669860482215881, 0.6917601823806763, 0.711333155632019, 0.7136600017547607, 0.7095537781715393, 0.6988776326179504, 0.7168080806732178]}\n",
            "Fitting the  3 / 48  model\n"
          ]
        },
        {
          "name": "stderr",
          "output_type": "stream",
          "text": [
            "/opt/homebrew/lib/python3.11/site-packages/tensorflow/python/data/ops/structured_function.py:258: UserWarning: Even though the `tf.config.experimental_run_functions_eagerly` option is set, this option does not apply to tf.data functions. To force eager execution of tf.data functions, please use `tf.data.experimental.enable_debug_mode()`.\n",
            "  warnings.warn(\n"
          ]
        },
        {
          "name": "stdout",
          "output_type": "stream",
          "text": [
            "{'loss': [1.258390188217163, 1.0045887231826782, 0.9271395802497864, 0.883370041847229, 0.8585779666900635, 0.8442197442054749, 0.8268010020256042, 0.8165931701660156, 0.8082586526870728, 0.7998495697975159], 'accuracy': [0.47679007053375244, 0.5880152583122253, 0.6246492862701416, 0.642875075340271, 0.6556034684181213, 0.6598234176635742, 0.6656401753425598, 0.6698829531669617, 0.6728255748748779, 0.6784142255783081], 'val_loss': [1.0365303754806519, 0.9413816332817078, 0.8424615859985352, 0.8204138278961182, 0.794701099395752, 0.7773656249046326, 0.7641544342041016, 0.7474021911621094, 0.7572891712188721, 0.7345675230026245], 'val_accuracy': [0.581850528717041, 0.6248289346694946, 0.6656172871589661, 0.676977813243866, 0.6820421814918518, 0.6977826356887817, 0.6975088715553284, 0.7084587812423706, 0.7020257115364075, 0.7107856273651123]}\n",
            "Fitting the  4 / 48  model\n"
          ]
        },
        {
          "name": "stderr",
          "output_type": "stream",
          "text": [
            "/opt/homebrew/lib/python3.11/site-packages/tensorflow/python/data/ops/structured_function.py:258: UserWarning: Even though the `tf.config.experimental_run_functions_eagerly` option is set, this option does not apply to tf.data functions. To force eager execution of tf.data functions, please use `tf.data.experimental.enable_debug_mode()`.\n",
            "  warnings.warn(\n"
          ]
        },
        {
          "name": "stdout",
          "output_type": "stream",
          "text": [
            "{'loss': [1.2517682313919067, 0.9895614385604858, 0.9141778945922852, 0.874868631362915, 0.8518952131271362, 0.8349613547325134, 0.8181886672973633, 0.806107759475708, 0.7996450066566467, 0.7922326326370239], 'accuracy': [0.477109432220459, 0.5924177169799805, 0.625926673412323, 0.6461141705513, 0.6524327397346497, 0.6607358455657959, 0.6681037545204163, 0.672255277633667, 0.6763156056404114, 0.6790528893470764], 'val_loss': [1.008217453956604, 0.8848109841346741, 0.8567826151847839, 0.8047674298286438, 0.7879503965377808, 0.7696425318717957, 0.7605410218238831, 0.7529771327972412, 0.7388272881507874, 0.7266647815704346], 'val_accuracy': [0.5906104445457458, 0.6489186882972717, 0.6571311354637146, 0.6854640245437622, 0.6905283331871033, 0.7010676264762878, 0.696687638759613, 0.7038050889968872, 0.7080481648445129, 0.7114700078964233]}\n",
            "Fitting the  5 / 48  model\n"
          ]
        },
        {
          "name": "stderr",
          "output_type": "stream",
          "text": [
            "/opt/homebrew/lib/python3.11/site-packages/tensorflow/python/data/ops/structured_function.py:258: UserWarning: Even though the `tf.config.experimental_run_functions_eagerly` option is set, this option does not apply to tf.data functions. To force eager execution of tf.data functions, please use `tf.data.experimental.enable_debug_mode()`.\n",
            "  warnings.warn(\n"
          ]
        },
        {
          "name": "stdout",
          "output_type": "stream",
          "text": [
            "{'loss': [1.2055633068084717, 0.968635082244873, 0.8986789584159851, 0.8619652390480042, 0.8331164717674255, 0.822030246257782, 0.8040859699249268, 0.7941953539848328, 0.7838432788848877, 0.7774503231048584], 'accuracy': [0.4923013746738434, 0.5964096188545227, 0.6270900368690491, 0.6417801380157471, 0.6576792597770691, 0.6576792597770691, 0.6681721806526184, 0.6690617799758911, 0.6782317161560059, 0.6797600388526917], 'val_loss': [0.9826006293296814, 0.8834960460662842, 0.8231272101402283, 0.7876862287521362, 0.7880799174308777, 0.7563753724098206, 0.7454009652137756, 0.7374330163002014, 0.7273644208908081, 0.7108983993530273], 'val_accuracy': [0.5867779850959778, 0.6398850083351135, 0.6646592020988464, 0.6805365681648254, 0.6693128943443298, 0.6950451731681824, 0.6925814151763916, 0.6972351670265198, 0.7058581709861755, 0.7196824550628662]}\n",
            "Fitting the  6 / 48  model\n"
          ]
        },
        {
          "name": "stderr",
          "output_type": "stream",
          "text": [
            "/opt/homebrew/lib/python3.11/site-packages/tensorflow/python/data/ops/structured_function.py:258: UserWarning: Even though the `tf.config.experimental_run_functions_eagerly` option is set, this option does not apply to tf.data functions. To force eager execution of tf.data functions, please use `tf.data.experimental.enable_debug_mode()`.\n",
            "  warnings.warn(\n"
          ]
        },
        {
          "name": "stdout",
          "output_type": "stream",
          "text": [
            "{'loss': [1.2025141716003418, 0.9681496024131775, 0.904751181602478, 0.8661636710166931, 0.8377131819725037, 0.813862144947052, 0.8004944920539856, 0.7848233580589294, 0.7765195965766907, 0.7711153626441956], 'accuracy': [0.4994867444038391, 0.5984169244766235, 0.6283674240112305, 0.6432172060012817, 0.6542119979858398, 0.6662104725837708, 0.6677615642547607, 0.678824782371521, 0.6812427043914795, 0.6836378574371338], 'val_loss': [0.9865437746047974, 0.8867307901382446, 0.8274140357971191, 0.7976031303405762, 0.7791047692298889, 0.7583276033401489, 0.7328864336013794, 0.723401665687561, 0.704275369644165, 0.7168360948562622], 'val_accuracy': [0.5922529697418213, 0.6457706093788147, 0.6680810451507568, 0.6798521876335144, 0.6850534081459045, 0.6976457834243774, 0.7084587812423706, 0.7131125330924988, 0.7224199175834656, 0.7069531679153442]}\n",
            "Fitting the  7 / 48  model\n"
          ]
        },
        {
          "name": "stderr",
          "output_type": "stream",
          "text": [
            "/opt/homebrew/lib/python3.11/site-packages/tensorflow/python/data/ops/structured_function.py:258: UserWarning: Even though the `tf.config.experimental_run_functions_eagerly` option is set, this option does not apply to tf.data functions. To force eager execution of tf.data functions, please use `tf.data.experimental.enable_debug_mode()`.\n",
            "  warnings.warn(\n"
          ]
        },
        {
          "name": "stdout",
          "output_type": "stream",
          "text": [
            "{'loss': [1.190380573272705, 0.9691198468208313, 0.9034669995307922, 0.8699571490287781, 0.8425425291061401, 0.8255460262298584, 0.8144678473472595, 0.8003745675086975, 0.7927054166793823, 0.7865963578224182], 'accuracy': [0.5017678141593933, 0.593763530254364, 0.6262004375457764, 0.6387691497802734, 0.6490795612335205, 0.6557403206825256, 0.6615798473358154, 0.6683546900749207, 0.6725062131881714, 0.6738748550415039], 'val_loss': [1.0027480125427246, 0.8825235962867737, 0.8353479504585266, 0.7990301847457886, 0.7827645540237427, 0.7690026760101318, 0.7608557939529419, 0.7310378551483154, 0.7296783924102783, 0.7453344464302063], 'val_accuracy': [0.5893785953521729, 0.6532986760139465, 0.6609635949134827, 0.6803996562957764, 0.6816315650939941, 0.6891595721244812, 0.6888858675956726, 0.7024363279342651, 0.7054475545883179, 0.6986038684844971]}\n",
            "Fitting the  8 / 48  model\n"
          ]
        },
        {
          "name": "stderr",
          "output_type": "stream",
          "text": [
            "/opt/homebrew/lib/python3.11/site-packages/tensorflow/python/data/ops/structured_function.py:258: UserWarning: Even though the `tf.config.experimental_run_functions_eagerly` option is set, this option does not apply to tf.data functions. To force eager execution of tf.data functions, please use `tf.data.experimental.enable_debug_mode()`.\n",
            "  warnings.warn(\n"
          ]
        },
        {
          "name": "stdout",
          "output_type": "stream",
          "text": [
            "{'loss': [1.1878443956375122, 0.9598153829574585, 0.884709894657135, 0.8515802025794983, 0.8302417397499084, 0.8132900595664978, 0.7976201176643372, 0.783927857875824, 0.7753358483314514, 0.7690818309783936], 'accuracy': [0.5082917213439941, 0.604165256023407, 0.6374917030334473, 0.6497182846069336, 0.6588197946548462, 0.6660279631614685, 0.6694267392158508, 0.677752673625946, 0.6794406771659851, 0.682611346244812], 'val_loss': [0.9703124165534973, 0.8634392619132996, 0.8191922307014465, 0.7945666313171387, 0.7742205858230591, 0.747930645942688, 0.7424054145812988, 0.7273768782615662, 0.725775957107544, 0.7268089056015015], 'val_accuracy': [0.6062140464782715, 0.6565836071968079, 0.6650698184967041, 0.680810272693634, 0.6868327260017395, 0.6946345567703247, 0.6984670162200928, 0.7035313248634338, 0.7092800140380859, 0.7079113125801086]}\n",
            "Fitting the  9 / 48  model\n"
          ]
        },
        {
          "name": "stderr",
          "output_type": "stream",
          "text": [
            "/opt/homebrew/lib/python3.11/site-packages/tensorflow/python/data/ops/structured_function.py:258: UserWarning: Even though the `tf.config.experimental_run_functions_eagerly` option is set, this option does not apply to tf.data functions. To force eager execution of tf.data functions, please use `tf.data.experimental.enable_debug_mode()`.\n",
            "  warnings.warn(\n"
          ]
        },
        {
          "name": "stdout",
          "output_type": "stream",
          "text": [
            "{'loss': [1.1592310667037964, 0.9464391469955444, 0.8830817937850952, 0.8474182486534119, 0.823121964931488, 0.7966275811195374, 0.7821018099784851, 0.7698562145233154, 0.7578058838844299, 0.750581681728363], 'accuracy': [0.5056912899017334, 0.6006295680999756, 0.629736065864563, 0.6453158259391785, 0.6583407521247864, 0.6697233319282532, 0.6747644543647766, 0.682132363319397, 0.6861470341682434, 0.6905723214149475], 'val_loss': [0.9736346006393433, 0.8559592962265015, 0.8007332682609558, 0.771432101726532, 0.756040632724762, 0.755829393863678, 0.7263068556785583, 0.727051854133606, 0.6957768797874451, 0.7004924416542053], 'val_accuracy': [0.5885573625564575, 0.64659184217453, 0.6773884296417236, 0.6958664059638977, 0.6887489557266235, 0.6932657957077026, 0.7043525576591492, 0.7035313248634338, 0.7195456027984619, 0.7161237597465515]}\n",
            "Fitting the  10 / 48  model\n"
          ]
        },
        {
          "name": "stderr",
          "output_type": "stream",
          "text": [
            "/opt/homebrew/lib/python3.11/site-packages/tensorflow/python/data/ops/structured_function.py:258: UserWarning: Even though the `tf.config.experimental_run_functions_eagerly` option is set, this option does not apply to tf.data functions. To force eager execution of tf.data functions, please use `tf.data.experimental.enable_debug_mode()`.\n",
            "  warnings.warn(\n"
          ]
        },
        {
          "name": "stdout",
          "output_type": "stream",
          "text": [
            "{'loss': [1.1477757692337036, 0.9452338814735413, 0.8851801156997681, 0.8480238318443298, 0.8229489326477051, 0.8058062195777893, 0.7877452969551086, 0.7772632837295532, 0.7629938125610352, 0.7519202828407288], 'accuracy': [0.5081548690795898, 0.5981432199478149, 0.6283902525901794, 0.64670729637146, 0.656493067741394, 0.6653892397880554, 0.6730536818504333, 0.6758137941360474, 0.6837062835693359, 0.6884737610816956], 'val_loss': [0.9713845252990723, 0.8649331331253052, 0.8087418079376221, 0.8017221689224243, 0.7671855092048645, 0.7459627389907837, 0.7342783212661743, 0.7113964557647705, 0.7073425054550171, 0.7125622034072876], 'val_accuracy': [0.5997809767723083, 0.6479606032371521, 0.6716397404670715, 0.6723241209983826, 0.6929920315742493, 0.7018888592720032, 0.7107856273651123, 0.708185076713562, 0.713796854019165, 0.7016150951385498]}\n",
            "Fitting the  11 / 48  model\n"
          ]
        },
        {
          "name": "stderr",
          "output_type": "stream",
          "text": [
            "/opt/homebrew/lib/python3.11/site-packages/tensorflow/python/data/ops/structured_function.py:258: UserWarning: Even though the `tf.config.experimental_run_functions_eagerly` option is set, this option does not apply to tf.data functions. To force eager execution of tf.data functions, please use `tf.data.experimental.enable_debug_mode()`.\n",
            "  warnings.warn(\n"
          ]
        },
        {
          "name": "stdout",
          "output_type": "stream",
          "text": [
            "{'loss': [1.1467931270599365, 0.9405427575111389, 0.8862409591674805, 0.8451505303382874, 0.8274235725402832, 0.8042292594909668, 0.7916707396507263, 0.7789150476455688, 0.7707564234733582, 0.762852132320404], 'accuracy': [0.516868531703949, 0.6025228500366211, 0.6249914169311523, 0.6436506509780884, 0.6510413289070129, 0.6626747846603394, 0.6677615642547607, 0.671753466129303, 0.6769315004348755, 0.6761787533760071], 'val_loss': [0.9507905840873718, 0.8631818890571594, 0.8029351830482483, 0.7736828327178955, 0.7505350112915039, 0.7552531361579895, 0.7420225143432617, 0.7234356999397278, 0.7100674510002136, 0.7101438641548157], 'val_accuracy': [0.6168902516365051, 0.6423487663269043, 0.6717765927314758, 0.6832740306854248, 0.6946345567703247, 0.6897071003913879, 0.6953189373016357, 0.7038050889968872, 0.7070900797843933, 0.7039419412612915]}\n",
            "Fitting the  12 / 48  model\n"
          ]
        },
        {
          "name": "stderr",
          "output_type": "stream",
          "text": [
            "/opt/homebrew/lib/python3.11/site-packages/tensorflow/python/data/ops/structured_function.py:258: UserWarning: Even though the `tf.config.experimental_run_functions_eagerly` option is set, this option does not apply to tf.data functions. To force eager execution of tf.data functions, please use `tf.data.experimental.enable_debug_mode()`.\n",
            "  warnings.warn(\n"
          ]
        },
        {
          "name": "stdout",
          "output_type": "stream",
          "text": [
            "{'loss': [1.1674935817718506, 0.9645630717277527, 0.8968700766563416, 0.8558589220046997, 0.8332340717315674, 0.8086467385292053, 0.7932685613632202, 0.7795577049255371, 0.7701190710067749, 0.7627245783805847], 'accuracy': [0.5032733678817749, 0.5946987867355347, 0.6248089671134949, 0.6441524624824524, 0.6528205275535583, 0.6644996404647827, 0.6695636510848999, 0.6763156056404114, 0.6798056364059448, 0.6806724667549133], 'val_loss': [1.013667345046997, 0.8666650056838989, 0.8230504989624023, 0.786726176738739, 0.7670599222183228, 0.7376517057418823, 0.7449588179588318, 0.7344409823417664, 0.7161498069763184, 0.7209438681602478], 'val_accuracy': [0.5639200806617737, 0.6470024585723877, 0.6602792143821716, 0.679578423500061, 0.6897071003913879, 0.7043525576591492, 0.6961401700973511, 0.6979195475578308, 0.7091431617736816, 0.6979195475578308]}\n",
            "Fitting the  13 / 48  model\n"
          ]
        },
        {
          "name": "stderr",
          "output_type": "stream",
          "text": [
            "/opt/homebrew/lib/python3.11/site-packages/tensorflow/python/data/ops/structured_function.py:258: UserWarning: Even though the `tf.config.experimental_run_functions_eagerly` option is set, this option does not apply to tf.data functions. To force eager execution of tf.data functions, please use `tf.data.experimental.enable_debug_mode()`.\n",
            "  warnings.warn(\n"
          ]
        },
        {
          "name": "stdout",
          "output_type": "stream",
          "text": [
            "{'loss': [1.1390186548233032, 0.9339297413825989, 0.866584062576294, 0.8269833326339722, 0.8018217086791992, 0.7840564250946045, 0.7674919962882996, 0.7591586112976074, 0.7494463324546814, 0.7425097227096558], 'accuracy': [0.5110974311828613, 0.6044161319732666, 0.6320171356201172, 0.6502429246902466, 0.6619904637336731, 0.6663929224014282, 0.6762927770614624, 0.6794178485870361, 0.6843906044960022, 0.685394287109375], 'val_loss': [0.9333550333976746, 0.8788120150566101, 0.7982581257820129, 0.7665386199951172, 0.7563737034797668, 0.7300886511802673, 0.7156989574432373, 0.7075359225273132, 0.6911411285400391, 0.7054808735847473], 'val_accuracy': [0.6088146567344666, 0.6335888504981995, 0.6734191179275513, 0.6738297343254089, 0.6803996562957764, 0.6899808645248413, 0.6939501762390137, 0.7032576203346252, 0.7102381587028503, 0.7035313248634338]}\n",
            "Fitting the  14 / 48  model\n"
          ]
        },
        {
          "name": "stderr",
          "output_type": "stream",
          "text": [
            "/opt/homebrew/lib/python3.11/site-packages/tensorflow/python/data/ops/structured_function.py:258: UserWarning: Even though the `tf.config.experimental_run_functions_eagerly` option is set, this option does not apply to tf.data functions. To force eager execution of tf.data functions, please use `tf.data.experimental.enable_debug_mode()`.\n",
            "  warnings.warn(\n"
          ]
        },
        {
          "name": "stdout",
          "output_type": "stream",
          "text": [
            "{'loss': [1.1237024068832397, 0.9203252792358398, 0.8485831022262573, 0.8055077195167542, 0.7871910333633423, 0.7622489929199219, 0.7484778165817261, 0.7380757927894592, 0.7342663407325745, 0.7200414538383484], 'accuracy': [0.5171194672584534, 0.6090467572212219, 0.6426241397857666, 0.663085401058197, 0.6708638668060303, 0.6811058521270752, 0.6876981854438782, 0.6956591010093689, 0.6938342452049255, 0.7018179893493652], 'val_loss': [0.926264762878418, 0.8246123194694519, 0.7815850377082825, 0.748424232006073, 0.7184101343154907, 0.7029612064361572, 0.7025779485702515, 0.6861243844032288, 0.6813468933105469, 0.6705544590950012], 'val_accuracy': [0.6094990372657776, 0.6511086821556091, 0.6732822060585022, 0.6924445629119873, 0.6975088715553284, 0.7129756212234497, 0.7133862376213074, 0.7177662253379822, 0.7200930714607239, 0.7285792231559753]}\n",
            "Fitting the  15 / 48  model\n"
          ]
        },
        {
          "name": "stderr",
          "output_type": "stream",
          "text": [
            "/opt/homebrew/lib/python3.11/site-packages/tensorflow/python/data/ops/structured_function.py:258: UserWarning: Even though the `tf.config.experimental_run_functions_eagerly` option is set, this option does not apply to tf.data functions. To force eager execution of tf.data functions, please use `tf.data.experimental.enable_debug_mode()`.\n",
            "  warnings.warn(\n"
          ]
        },
        {
          "name": "stdout",
          "output_type": "stream",
          "text": [
            "{'loss': [1.1316663026809692, 0.9349690079689026, 0.8744363188743591, 0.8347872495651245, 0.8078213930130005, 0.7913786768913269, 0.7760794758796692, 0.7662410736083984, 0.7564358115196228, 0.7481128573417664], 'accuracy': [0.5013344287872314, 0.5995574593544006, 0.6271356344223022, 0.643376886844635, 0.658751368522644, 0.6646137237548828, 0.6744451522827148, 0.6781404614448547, 0.6804215312004089, 0.6867401003837585], 'val_loss': [0.9541632533073425, 0.8456771969795227, 0.7811347246170044, 0.7630789875984192, 0.74306321144104, 0.7382519841194153, 0.7243198752403259, 0.700758159160614, 0.6917273998260498, 0.685819685459137], 'val_accuracy': [0.6026553511619568, 0.6576786041259766, 0.6730085015296936, 0.6784834265708923, 0.6917601823806763, 0.6894333362579346, 0.6983301639556885, 0.7033944725990295, 0.7166712284088135, 0.7177662253379822]}\n",
            "Fitting the  16 / 48  model\n"
          ]
        },
        {
          "name": "stderr",
          "output_type": "stream",
          "text": [
            "/opt/homebrew/lib/python3.11/site-packages/tensorflow/python/data/ops/structured_function.py:258: UserWarning: Even though the `tf.config.experimental_run_functions_eagerly` option is set, this option does not apply to tf.data functions. To force eager execution of tf.data functions, please use `tf.data.experimental.enable_debug_mode()`.\n",
            "  warnings.warn(\n"
          ]
        },
        {
          "name": "stdout",
          "output_type": "stream",
          "text": [
            "{'loss': [1.1155176162719727, 0.9248754978179932, 0.8633291721343994, 0.8273735642433167, 0.8024579882621765, 0.7780503630638123, 0.7626898884773254, 0.7551723122596741, 0.7471550107002258, 0.7386009097099304], 'accuracy': [0.5192408561706543, 0.6062410473823547, 0.6328383684158325, 0.650995671749115, 0.6571773886680603, 0.6711603999137878, 0.6778439283370972, 0.6790300607681274, 0.6811058521270752, 0.6850293278694153], 'val_loss': [0.9445641040802002, 0.8272575736045837, 0.8177925944328308, 0.7857832908630371, 0.7547060251235962, 0.7259773015975952, 0.7174432277679443, 0.7164737582206726, 0.698097288608551, 0.6936752200126648], 'val_accuracy': [0.5907473564147949, 0.6501505374908447, 0.6483712196350098, 0.6723241209983826, 0.6890227198600769, 0.7028470039367676, 0.6970982551574707, 0.6975088715553284, 0.7053107023239136, 0.7117437720298767]}\n",
            "Fitting the  17 / 48  model\n"
          ]
        },
        {
          "name": "stderr",
          "output_type": "stream",
          "text": [
            "/opt/homebrew/lib/python3.11/site-packages/tensorflow/python/data/ops/structured_function.py:258: UserWarning: Even though the `tf.config.experimental_run_functions_eagerly` option is set, this option does not apply to tf.data functions. To force eager execution of tf.data functions, please use `tf.data.experimental.enable_debug_mode()`.\n",
            "  warnings.warn(\n"
          ]
        },
        {
          "name": "stdout",
          "output_type": "stream",
          "text": [
            "{'loss': [1.4162168502807617, 1.1957893371582031, 1.1464840173721313, 1.1164634227752686, 1.0957832336425781, 1.0790801048278809, 1.0649832487106323, 1.055654525756836, 1.0452735424041748, 1.0330419540405273], 'accuracy': [0.35110288858413696, 0.4573325216770172, 0.48550376296043396, 0.5027943253517151, 0.5140172243118286, 0.5217044353485107, 0.5303496718406677, 0.5343871712684631, 0.5402039289474487, 0.5448117256164551], 'val_loss': [1.1795563697814941, 1.0762600898742676, 1.0285063982009888, 1.008890151977539, 0.9624490737915039, 0.9586421251296997, 0.9233999252319336, 0.9145833253860474, 0.9345682859420776, 0.901258647441864], 'val_accuracy': [0.48932385444641113, 0.5142349004745483, 0.5578976273536682, 0.5684369206428528, 0.5986860394477844, 0.6071721911430359, 0.617985188961029, 0.6222283244132996, 0.613605260848999, 0.6211333274841309]}\n",
            "Fitting the  18 / 48  model\n"
          ]
        },
        {
          "name": "stderr",
          "output_type": "stream",
          "text": [
            "/opt/homebrew/lib/python3.11/site-packages/tensorflow/python/data/ops/structured_function.py:258: UserWarning: Even though the `tf.config.experimental_run_functions_eagerly` option is set, this option does not apply to tf.data functions. To force eager execution of tf.data functions, please use `tf.data.experimental.enable_debug_mode()`.\n",
            "  warnings.warn(\n"
          ]
        },
        {
          "name": "stdout",
          "output_type": "stream",
          "text": [
            "{'loss': [1.4230564832687378, 1.195599913597107, 1.1377238035202026, 1.0964610576629639, 1.076777458190918, 1.0635693073272705, 1.0524137020111084, 1.0369611978530884, 1.0339610576629639, 1.0254449844360352], 'accuracy': [0.3482743799686432, 0.45363718271255493, 0.49512991309165955, 0.5144277811050415, 0.5290038585662842, 0.5340906381607056, 0.5397933125495911, 0.5504687428474426, 0.5464996695518494, 0.5530235767364502], 'val_loss': [1.1977276802062988, 1.0674800872802734, 1.014352798461914, 0.9717654585838318, 0.9724644422531128, 0.9384405016899109, 0.9205781817436218, 0.8982603549957275, 0.9022623896598816, 0.8800091743469238], 'val_accuracy': [0.4749521017074585, 0.548179566860199, 0.5896523594856262, 0.6078565716743469, 0.5971804261207581, 0.6183958649635315, 0.6252395510673523, 0.6356419324874878, 0.6355050802230835, 0.6464549899101257]}\n",
            "Fitting the  19 / 48  model\n"
          ]
        },
        {
          "name": "stderr",
          "output_type": "stream",
          "text": [
            "/opt/homebrew/lib/python3.11/site-packages/tensorflow/python/data/ops/structured_function.py:258: UserWarning: Even though the `tf.config.experimental_run_functions_eagerly` option is set, this option does not apply to tf.data functions. To force eager execution of tf.data functions, please use `tf.data.experimental.enable_debug_mode()`.\n",
            "  warnings.warn(\n"
          ]
        },
        {
          "name": "stdout",
          "output_type": "stream",
          "text": [
            "{'loss': [1.4105000495910645, 1.1925095319747925, 1.134170651435852, 1.1012035608291626, 1.0794144868850708, 1.0578696727752686, 1.052767038345337, 1.040167212486267, 1.0334042310714722, 1.026160717010498], 'accuracy': [0.3567599654197693, 0.46043476462364197, 0.49145737290382385, 0.512511670589447, 0.5230730772018433, 0.5345468521118164, 0.5370332598686218, 0.5423709750175476, 0.5449941754341125, 0.5534113645553589], 'val_loss': [1.186874270439148, 1.0601139068603516, 1.0259588956832886, 0.9762336015701294, 0.9635486602783203, 0.9390920400619507, 0.9203518033027649, 0.9010818004608154, 0.899482011795044, 0.897175133228302], 'val_accuracy': [0.4713933765888214, 0.5461264848709106, 0.5526964068412781, 0.5919792056083679, 0.5943060517311096, 0.6120996475219727, 0.6153846383094788, 0.6360525488853455, 0.641527533531189, 0.6292088627815247]}\n",
            "Fitting the  20 / 48  model\n"
          ]
        },
        {
          "name": "stderr",
          "output_type": "stream",
          "text": [
            "/opt/homebrew/lib/python3.11/site-packages/tensorflow/python/data/ops/structured_function.py:258: UserWarning: Even though the `tf.config.experimental_run_functions_eagerly` option is set, this option does not apply to tf.data functions. To force eager execution of tf.data functions, please use `tf.data.experimental.enable_debug_mode()`.\n",
            "  warnings.warn(\n"
          ]
        },
        {
          "name": "stdout",
          "output_type": "stream",
          "text": [
            "{'loss': [1.4026952981948853, 1.1925729513168335, 1.134268879890442, 1.1029092073440552, 1.0806996822357178, 1.0682934522628784, 1.0510220527648926, 1.0465528964996338, 1.0361933708190918, 1.0228444337844849], 'accuracy': [0.3627135753631592, 0.45842742919921875, 0.4900203049182892, 0.5084969997406006, 0.519628643989563, 0.5257419347763062, 0.5358470678329468, 0.5422568917274475, 0.5449485778808594, 0.5523620247840881], 'val_loss': [1.189907431602478, 1.0719560384750366, 1.0238029956817627, 0.9947464466094971, 0.9524937868118286, 0.9422063827514648, 0.9287065863609314, 0.9288592338562012, 0.9106659889221191, 0.8840515613555908], 'val_accuracy': [0.46537092328071594, 0.5320284962654114, 0.5648781657218933, 0.5747330784797668, 0.595811665058136, 0.5966328978538513, 0.6082671880722046, 0.6196277141571045, 0.6349575519561768, 0.6501505374908447]}\n",
            "Fitting the  21 / 48  model\n"
          ]
        },
        {
          "name": "stderr",
          "output_type": "stream",
          "text": [
            "/opt/homebrew/lib/python3.11/site-packages/tensorflow/python/data/ops/structured_function.py:258: UserWarning: Even though the `tf.config.experimental_run_functions_eagerly` option is set, this option does not apply to tf.data functions. To force eager execution of tf.data functions, please use `tf.data.experimental.enable_debug_mode()`.\n",
            "  warnings.warn(\n"
          ]
        },
        {
          "name": "stdout",
          "output_type": "stream",
          "text": [
            "{'loss': [1.3432977199554443, 1.154732584953308, 1.1041425466537476, 1.0688005685806274, 1.0484923124313354, 1.0335922241210938, 1.0212522745132446, 1.0130635499954224, 1.0058913230895996, 0.9932959675788879], 'accuracy': [0.392048180103302, 0.48650744557380676, 0.5103902816772461, 0.5286388993263245, 0.5379684567451477, 0.5460434556007385, 0.5526129603385925, 0.5548027753829956, 0.5597071051597595, 0.5660713315010071], 'val_loss': [1.126584529876709, 1.014591097831726, 0.9593853950500488, 0.9403249621391296, 0.9282459616661072, 0.9061208963394165, 0.8933737874031067, 0.8848451972007751, 0.8723673820495605, 0.8503024578094482], 'val_accuracy': [0.5046536922454834, 0.580481767654419, 0.6044347286224365, 0.6066246628761292, 0.6249657869338989, 0.6341363191604614, 0.6331782341003418, 0.6266082525253296, 0.6493293046951294, 0.659321129322052]}\n",
            "Fitting the  22 / 48  model\n"
          ]
        },
        {
          "name": "stderr",
          "output_type": "stream",
          "text": [
            "/opt/homebrew/lib/python3.11/site-packages/tensorflow/python/data/ops/structured_function.py:258: UserWarning: Even though the `tf.config.experimental_run_functions_eagerly` option is set, this option does not apply to tf.data functions. To force eager execution of tf.data functions, please use `tf.data.experimental.enable_debug_mode()`.\n",
            "  warnings.warn(\n"
          ]
        },
        {
          "name": "stdout",
          "output_type": "stream",
          "text": [
            "{'loss': [1.3755029439926147, 1.162628412246704, 1.101150393486023, 1.071141242980957, 1.0557740926742554, 1.0411399602890015, 1.031209111213684, 1.0168956518173218, 1.013952374458313, 1.0075067281723022], 'accuracy': [0.3713360130786896, 0.4749652147293091, 0.5089303851127625, 0.5230502486228943, 0.532721996307373, 0.5368507504463196, 0.540340781211853, 0.5501493811607361, 0.5525445342063904, 0.5493738651275635], 'val_loss': [1.140185832977295, 1.0134820938110352, 0.9765889644622803, 0.9600396156311035, 0.9298874735832214, 0.9053692817687988, 0.8883755207061768, 0.895047128200531, 0.8766359090805054, 0.8920891880989075], 'val_accuracy': [0.4921981990337372, 0.5717218518257141, 0.5785655379295349, 0.6016972064971924, 0.6153846383094788, 0.6192170977592468, 0.6323569416999817, 0.6277032494544983, 0.6416643857955933, 0.6289350986480713]}\n",
            "Fitting the  23 / 48  model\n"
          ]
        },
        {
          "name": "stderr",
          "output_type": "stream",
          "text": [
            "/opt/homebrew/lib/python3.11/site-packages/tensorflow/python/data/ops/structured_function.py:258: UserWarning: Even though the `tf.config.experimental_run_functions_eagerly` option is set, this option does not apply to tf.data functions. To force eager execution of tf.data functions, please use `tf.data.experimental.enable_debug_mode()`.\n",
            "  warnings.warn(\n"
          ]
        },
        {
          "name": "stdout",
          "output_type": "stream",
          "text": [
            "{'loss': [1.37326979637146, 1.158191442489624, 1.102587342262268, 1.0625510215759277, 1.0397902727127075, 1.0250070095062256, 1.0142147541046143, 1.0030555725097656, 0.9909515976905823, 0.9834755063056946], 'accuracy': [0.3676406741142273, 0.4754442274570465, 0.5073108673095703, 0.5295969247817993, 0.5435571074485779, 0.5488492250442505, 0.5603685975074768, 0.5593649744987488, 0.5687857866287231, 0.5710896849632263], 'val_loss': [1.143940806388855, 1.026918888092041, 0.9710794687271118, 0.923965334892273, 0.9126782417297363, 0.9037986993789673, 0.8743625283241272, 0.8554283380508423, 0.8709840774536133, 0.8378031849861145], 'val_accuracy': [0.4952094256877899, 0.5565288662910461, 0.6021078824996948, 0.614837110042572, 0.6225020289421082, 0.6279770135879517, 0.6553517580032349, 0.6537092924118042, 0.6587736010551453, 0.6546673774719238]}\n",
            "Fitting the  24 / 48  model\n"
          ]
        },
        {
          "name": "stderr",
          "output_type": "stream",
          "text": [
            "/opt/homebrew/lib/python3.11/site-packages/tensorflow/python/data/ops/structured_function.py:258: UserWarning: Even though the `tf.config.experimental_run_functions_eagerly` option is set, this option does not apply to tf.data functions. To force eager execution of tf.data functions, please use `tf.data.experimental.enable_debug_mode()`.\n",
            "  warnings.warn(\n"
          ]
        },
        {
          "name": "stdout",
          "output_type": "stream",
          "text": [
            "{'loss': [1.3563710451126099, 1.1556283235549927, 1.099287509918213, 1.070482850074768, 1.044976830482483, 1.0369457006454468, 1.018939733505249, 1.0092648267745972, 1.0030373334884644, 0.9940052032470703], 'accuracy': [0.3901320695877075, 0.47932207584381104, 0.5062159299850464, 0.5250576138496399, 0.5358014702796936, 0.5456100702285767, 0.5543465614318848, 0.5618969202041626, 0.5619881749153137, 0.5636533498764038], 'val_loss': [1.1377365589141846, 1.0363237857818604, 0.9713234901428223, 0.9442151188850403, 0.9174031019210815, 0.9082639813423157, 0.8973724246025085, 0.8767123818397522, 0.8709955215454102, 0.8583477735519409], 'val_accuracy': [0.5114973783493042, 0.5517383217811584, 0.6022447347640991, 0.6089515686035156, 0.6233233213424683, 0.6309882402420044, 0.6316726207733154, 0.6500136852264404, 0.6505611538887024, 0.6513824462890625]}\n",
            "Fitting the  25 / 48  model\n"
          ]
        },
        {
          "name": "stderr",
          "output_type": "stream",
          "text": [
            "/opt/homebrew/lib/python3.11/site-packages/tensorflow/python/data/ops/structured_function.py:258: UserWarning: Even though the `tf.config.experimental_run_functions_eagerly` option is set, this option does not apply to tf.data functions. To force eager execution of tf.data functions, please use `tf.data.experimental.enable_debug_mode()`.\n",
            "  warnings.warn(\n"
          ]
        },
        {
          "name": "stdout",
          "output_type": "stream",
          "text": [
            "{'loss': [1.3127026557922363, 1.1368881464004517, 1.0898853540420532, 1.0585412979125977, 1.036231279373169, 1.025994062423706, 1.0125161409378052, 1.004311442375183, 0.9975978136062622, 0.9902545809745789], 'accuracy': [0.40238144993782043, 0.4826752543449402, 0.5058509707450867, 0.5240767598152161, 0.532767653465271, 0.5393599271774292, 0.5517005324363708, 0.5542553663253784, 0.5600036382675171, 0.5607336163520813], 'val_loss': [1.0943686962127686, 1.0137839317321777, 0.9585997462272644, 0.9262847900390625, 0.9142950177192688, 0.9099417328834534, 0.9112016558647156, 0.8791036605834961, 0.8705747723579407, 0.8575541377067566], 'val_accuracy': [0.5217629075050354, 0.5611826181411743, 0.5822611451148987, 0.6051191091537476, 0.6096358895301819, 0.6151108741760254, 0.6138790249824524, 0.6382425427436829, 0.6264714002609253, 0.659868597984314]}\n",
            "Fitting the  26 / 48  model\n"
          ]
        },
        {
          "name": "stderr",
          "output_type": "stream",
          "text": [
            "/opt/homebrew/lib/python3.11/site-packages/tensorflow/python/data/ops/structured_function.py:258: UserWarning: Even though the `tf.config.experimental_run_functions_eagerly` option is set, this option does not apply to tf.data functions. To force eager execution of tf.data functions, please use `tf.data.experimental.enable_debug_mode()`.\n",
            "  warnings.warn(\n"
          ]
        },
        {
          "name": "stdout",
          "output_type": "stream",
          "text": [
            "{'loss': [1.3380968570709229, 1.1432722806930542, 1.078689694404602, 1.0477843284606934, 1.0273529291152954, 1.0085300207138062, 0.9988189935684204, 0.9894977807998657, 0.9813417792320251, 0.98006671667099], 'accuracy': [0.3832888603210449, 0.4833139479160309, 0.5166175961494446, 0.5342959761619568, 0.545222282409668, 0.5570382475852966, 0.5614179372787476, 0.5661625266075134, 0.5659116506576538, 0.5678277611732483], 'val_loss': [1.121273398399353, 1.0034384727478027, 0.9298641681671143, 0.899825394153595, 0.9010114073753357, 0.856403648853302, 0.8677499890327454, 0.8611438274383545, 0.8369817733764648, 0.844865620136261], 'val_accuracy': [0.518341064453125, 0.5706268548965454, 0.6125102639198303, 0.6246920228004456, 0.614837110042572, 0.6435806155204773, 0.6352313160896301, 0.643443763256073, 0.6531617641448975, 0.6508349180221558]}\n",
            "Fitting the  27 / 48  model\n"
          ]
        },
        {
          "name": "stderr",
          "output_type": "stream",
          "text": [
            "/opt/homebrew/lib/python3.11/site-packages/tensorflow/python/data/ops/structured_function.py:258: UserWarning: Even though the `tf.config.experimental_run_functions_eagerly` option is set, this option does not apply to tf.data functions. To force eager execution of tf.data functions, please use `tf.data.experimental.enable_debug_mode()`.\n",
            "  warnings.warn(\n"
          ]
        },
        {
          "name": "stdout",
          "output_type": "stream",
          "text": [
            "{'loss': [1.318358063697815, 1.142728567123413, 1.085924506187439, 1.0609502792358398, 1.0370310544967651, 1.020526647567749, 1.0117660760879517, 0.997320294380188, 0.9917491674423218, 0.9793766736984253], 'accuracy': [0.40021443367004395, 0.4788886606693268, 0.5088163614273071, 0.5202217102050781, 0.5369191765785217, 0.5433518290519714, 0.5492141842842102, 0.5587034225463867, 0.558338463306427, 0.5661625266075134], 'val_loss': [1.118028998374939, 1.0166845321655273, 0.9650536179542542, 0.9586572051048279, 0.8995787501335144, 0.8908784985542297, 0.8735215663909912, 0.8514773845672607, 0.8596259951591492, 0.8585755228996277], 'val_accuracy': [0.5087599158287048, 0.5498220920562744, 0.6001916527748108, 0.5895154476165771, 0.6374213099479675, 0.6147002577781677, 0.6402956247329712, 0.6474130749702454, 0.6454968452453613, 0.6311250925064087]}\n",
            "Fitting the  28 / 48  model\n"
          ]
        },
        {
          "name": "stderr",
          "output_type": "stream",
          "text": [
            "/opt/homebrew/lib/python3.11/site-packages/tensorflow/python/data/ops/structured_function.py:258: UserWarning: Even though the `tf.config.experimental_run_functions_eagerly` option is set, this option does not apply to tf.data functions. To force eager execution of tf.data functions, please use `tf.data.experimental.enable_debug_mode()`.\n",
            "  warnings.warn(\n"
          ]
        },
        {
          "name": "stdout",
          "output_type": "stream",
          "text": [
            "{'loss': [1.315371036529541, 1.1321443319320679, 1.0818889141082764, 1.0513737201690674, 1.03018319606781, 1.0128244161605835, 1.0069496631622314, 1.00010347366333, 0.9885806441307068, 0.9889058470726013], 'accuracy': [0.3972034156322479, 0.4870549142360687, 0.5114167928695679, 0.5266087055206299, 0.5367366671562195, 0.5460891127586365, 0.5491685271263123, 0.553981602191925, 0.5585209727287292, 0.5574260354042053], 'val_loss': [1.0921599864959717, 0.9964390993118286, 0.9510843753814697, 0.9182220697402954, 0.9017175436019897, 0.8946394920349121, 0.8793531656265259, 0.8722115755081177, 0.8592661023139954, 0.8480099439620972], 'val_accuracy': [0.5054749250411987, 0.5848617553710938, 0.5906104445457458, 0.6004653573036194, 0.6144264936447144, 0.6164796352386475, 0.6349575519561768, 0.6359156966209412, 0.6530249118804932, 0.6512455344200134]}\n",
            "Fitting the  29 / 48  model\n"
          ]
        },
        {
          "name": "stderr",
          "output_type": "stream",
          "text": [
            "/opt/homebrew/lib/python3.11/site-packages/tensorflow/python/data/ops/structured_function.py:258: UserWarning: Even though the `tf.config.experimental_run_functions_eagerly` option is set, this option does not apply to tf.data functions. To force eager execution of tf.data functions, please use `tf.data.experimental.enable_debug_mode()`.\n",
            "  warnings.warn(\n"
          ]
        },
        {
          "name": "stdout",
          "output_type": "stream",
          "text": [
            "{'loss': [1.2969223260879517, 1.1199308633804321, 1.069887638092041, 1.0381121635437012, 1.0174869298934937, 1.0028988122940063, 0.9901813268661499, 0.9830878973007202, 0.9760128259658813, 0.9663686156272888], 'accuracy': [0.3989826440811157, 0.48844635486602783, 0.5182600021362305, 0.5344099998474121, 0.5464540719985962, 0.5473209023475647, 0.5559889674186707, 0.5585665702819824, 0.5633339881896973, 0.5690138936042786], 'val_loss': [1.0845229625701904, 0.9960711002349854, 0.9271225929260254, 0.9182878136634827, 0.9005907773971558, 0.8650122284889221, 0.8631467223167419, 0.8508403897285461, 0.8388928771018982, 0.8486871719360352], 'val_accuracy': [0.520257294178009, 0.5703531503677368, 0.6015603542327881, 0.6023815870285034, 0.6277032494544983, 0.6398850083351135, 0.6400219202041626, 0.6357787847518921, 0.6535723805427551, 0.6366000771522522]}\n",
            "Fitting the  30 / 48  model\n"
          ]
        },
        {
          "name": "stderr",
          "output_type": "stream",
          "text": [
            "/opt/homebrew/lib/python3.11/site-packages/tensorflow/python/data/ops/structured_function.py:258: UserWarning: Even though the `tf.config.experimental_run_functions_eagerly` option is set, this option does not apply to tf.data functions. To force eager execution of tf.data functions, please use `tf.data.experimental.enable_debug_mode()`.\n",
            "  warnings.warn(\n"
          ]
        },
        {
          "name": "stdout",
          "output_type": "stream",
          "text": [
            "{'loss': [1.3234155178070068, 1.1329280138015747, 1.074662446975708, 1.0472908020019531, 1.0221816301345825, 1.0057491064071655, 0.9919759631156921, 0.9814800024032593, 0.9715530276298523, 0.9688733220100403], 'accuracy': [0.367777556180954, 0.47309473156929016, 0.5088619589805603, 0.5247154235839844, 0.5397248864173889, 0.5471383929252625, 0.5535253882408142, 0.5584981441497803, 0.5641779899597168, 0.5643149018287659], 'val_loss': [1.1080050468444824, 0.9962375164031982, 0.9542587995529175, 0.917190432548523, 0.8900613188743591, 0.874757707118988, 0.8453750610351562, 0.8465356230735779, 0.825468122959137, 0.8194116353988647], 'val_accuracy': [0.51656174659729, 0.5739118456840515, 0.5956748127937317, 0.6077196598052979, 0.6257870197296143, 0.6339994668960571, 0.6542567610740662, 0.6444018483161926, 0.6550779938697815, 0.6530249118804932]}\n",
            "Fitting the  31 / 48  model\n"
          ]
        },
        {
          "name": "stderr",
          "output_type": "stream",
          "text": [
            "/opt/homebrew/lib/python3.11/site-packages/tensorflow/python/data/ops/structured_function.py:258: UserWarning: Even though the `tf.config.experimental_run_functions_eagerly` option is set, this option does not apply to tf.data functions. To force eager execution of tf.data functions, please use `tf.data.experimental.enable_debug_mode()`.\n",
            "  warnings.warn(\n"
          ]
        },
        {
          "name": "stdout",
          "output_type": "stream",
          "text": [
            "{'loss': [1.3269699811935425, 1.1598345041275024, 1.0876816511154175, 1.0580284595489502, 1.0372859239578247, 1.026086688041687, 1.005926251411438, 1.000760555267334, 0.9916629195213318, 0.9843270778656006], 'accuracy': [0.37669655680656433, 0.46387919783592224, 0.5035242438316345, 0.5149524211883545, 0.5300987958908081, 0.5344328284263611, 0.5447660684585571, 0.5491685271263123, 0.5558977127075195, 0.5576997399330139], 'val_loss': [1.1229194402694702, 1.017641544342041, 0.9557698369026184, 0.9242308735847473, 0.9001584649085999, 0.8930628895759583, 0.8766242265701294, 0.8597250580787659, 0.8494313955307007, 0.8503928184509277], 'val_accuracy': [0.49616754055023193, 0.5453052520751953, 0.593895435333252, 0.6045715808868408, 0.6188064813613892, 0.6114152669906616, 0.6303038597106934, 0.6338625550270081, 0.6408431529998779, 0.6523405313491821]}\n",
            "Fitting the  32 / 48  model\n"
          ]
        },
        {
          "name": "stderr",
          "output_type": "stream",
          "text": [
            "/opt/homebrew/lib/python3.11/site-packages/tensorflow/python/data/ops/structured_function.py:258: UserWarning: Even though the `tf.config.experimental_run_functions_eagerly` option is set, this option does not apply to tf.data functions. To force eager execution of tf.data functions, please use `tf.data.experimental.enable_debug_mode()`.\n",
            "  warnings.warn(\n"
          ]
        },
        {
          "name": "stdout",
          "output_type": "stream",
          "text": [
            "{'loss': [1.3178421258926392, 1.1550297737121582, 1.094567060470581, 1.0649147033691406, 1.038117527961731, 1.0179216861724854, 1.0024309158325195, 0.9881678819656372, 0.9848300814628601, 0.9712722897529602], 'accuracy': [0.38221675157546997, 0.46449509263038635, 0.49538081884384155, 0.5131503939628601, 0.5242820382118225, 0.5351399183273315, 0.5480964183807373, 0.5541184544563293, 0.5590456128120422, 0.5645430088043213], 'val_loss': [1.1199051141738892, 1.0017458200454712, 0.9721482992172241, 0.9343504905700684, 0.9082155823707581, 0.8928073644638062, 0.8679189085960388, 0.8435192108154297, 0.8559090495109558, 0.851222038269043], 'val_accuracy': [0.49958938360214233, 0.5511907935142517, 0.5759649872779846, 0.5937585830688477, 0.6032028198242188, 0.612236499786377, 0.6318094730377197, 0.6404325366020203, 0.6335888504981995, 0.6475499868392944]}\n",
            "Fitting the  33 / 48  model\n"
          ]
        },
        {
          "name": "stderr",
          "output_type": "stream",
          "text": [
            "/opt/homebrew/lib/python3.11/site-packages/tensorflow/python/data/ops/structured_function.py:258: UserWarning: Even though the `tf.config.experimental_run_functions_eagerly` option is set, this option does not apply to tf.data functions. To force eager execution of tf.data functions, please use `tf.data.experimental.enable_debug_mode()`.\n",
            "  warnings.warn(\n"
          ]
        },
        {
          "name": "stdout",
          "output_type": "stream",
          "text": [
            "{'loss': [1.8380649089813232, 1.3937593698501587, 1.3946183919906616, 1.3905748128890991, 1.3916535377502441, 1.3927724361419678, 1.3935908079147339, 1.3920409679412842, 1.3884668350219727, 1.390876054763794], 'accuracy': [0.25256049633026123, 0.24697187542915344, 0.25064441561698914, 0.24952667951583862, 0.24932138621807098, 0.24649284780025482, 0.24936699867248535, 0.2505759596824646, 0.2501882016658783, 0.24984602630138397], 'val_loss': [1.392331600189209, 1.3970556259155273, 1.3915284872055054, 1.3876278400421143, 1.3902435302734375, 1.394260048866272, 1.3959671258926392, 1.3876878023147583, 1.3884096145629883, 1.3921384811401367], 'val_accuracy': [0.25225841999053955, 0.25225841999053955, 0.24883657693862915, 0.24883657693862915, 0.25225841999053955, 0.25225841999053955, 0.24883657693862915, 0.24404598772525787, 0.24883657693862915, 0.24883657693862915]}\n"
          ]
        },
        {
          "name": "stderr",
          "output_type": "stream",
          "text": [
            "/opt/homebrew/lib/python3.11/site-packages/sklearn/metrics/_classification.py:1344: UndefinedMetricWarning: Precision and F-score are ill-defined and being set to 0.0 in labels with no predicted samples. Use `zero_division` parameter to control this behavior.\n",
            "  _warn_prf(average, modifier, msg_start, len(result))\n",
            "/opt/homebrew/lib/python3.11/site-packages/sklearn/metrics/_classification.py:1344: UndefinedMetricWarning: Precision and F-score are ill-defined and being set to 0.0 in labels with no predicted samples. Use `zero_division` parameter to control this behavior.\n",
            "  _warn_prf(average, modifier, msg_start, len(result))\n",
            "/opt/homebrew/lib/python3.11/site-packages/sklearn/metrics/_classification.py:1344: UndefinedMetricWarning: Precision and F-score are ill-defined and being set to 0.0 in labels with no predicted samples. Use `zero_division` parameter to control this behavior.\n",
            "  _warn_prf(average, modifier, msg_start, len(result))\n",
            "/opt/homebrew/lib/python3.11/site-packages/tensorflow/python/data/ops/structured_function.py:258: UserWarning: Even though the `tf.config.experimental_run_functions_eagerly` option is set, this option does not apply to tf.data functions. To force eager execution of tf.data functions, please use `tf.data.experimental.enable_debug_mode()`.\n",
            "  warnings.warn(\n"
          ]
        },
        {
          "name": "stdout",
          "output_type": "stream",
          "text": [
            "Fitting the  34 / 48  model\n",
            "{'loss': [1.8244158029556274, 1.3932946920394897, 1.3895423412322998, 1.3918702602386475, 1.3927698135375977, 1.39010751247406, 1.3920010328292847, 1.3893262147903442, 1.3881832361221313, 1.3888367414474487], 'accuracy': [0.24781587719917297, 0.2456260472536087, 0.2482720911502838, 0.2500513195991516, 0.25495561957359314, 0.2513287365436554, 0.24672095477581024, 0.25217270851135254, 0.25203585624694824, 0.251351535320282], 'val_loss': [1.3948198556900024, 1.388293743133545, 1.3904318809509277, 1.3899967670440674, 1.392025113105774, 1.3946245908737183, 1.391018271446228, 1.3882328271865845, 1.387810230255127, 1.4012815952301025], 'val_accuracy': [0.2548590302467346, 0.24883657693862915, 0.2548590302467346, 0.24404598772525787, 0.25225841999053955, 0.24883657693862915, 0.24883657693862915, 0.24404598772525787, 0.25225841999053955, 0.25225841999053955]}\n"
          ]
        },
        {
          "name": "stderr",
          "output_type": "stream",
          "text": [
            "/opt/homebrew/lib/python3.11/site-packages/sklearn/metrics/_classification.py:1344: UndefinedMetricWarning: Precision and F-score are ill-defined and being set to 0.0 in labels with no predicted samples. Use `zero_division` parameter to control this behavior.\n",
            "  _warn_prf(average, modifier, msg_start, len(result))\n",
            "/opt/homebrew/lib/python3.11/site-packages/sklearn/metrics/_classification.py:1344: UndefinedMetricWarning: Precision and F-score are ill-defined and being set to 0.0 in labels with no predicted samples. Use `zero_division` parameter to control this behavior.\n",
            "  _warn_prf(average, modifier, msg_start, len(result))\n",
            "/opt/homebrew/lib/python3.11/site-packages/sklearn/metrics/_classification.py:1344: UndefinedMetricWarning: Precision and F-score are ill-defined and being set to 0.0 in labels with no predicted samples. Use `zero_division` parameter to control this behavior.\n",
            "  _warn_prf(average, modifier, msg_start, len(result))\n",
            "/opt/homebrew/lib/python3.11/site-packages/tensorflow/python/data/ops/structured_function.py:258: UserWarning: Even though the `tf.config.experimental_run_functions_eagerly` option is set, this option does not apply to tf.data functions. To force eager execution of tf.data functions, please use `tf.data.experimental.enable_debug_mode()`.\n",
            "  warnings.warn(\n"
          ]
        },
        {
          "name": "stdout",
          "output_type": "stream",
          "text": [
            "Fitting the  35 / 48  model\n",
            "{'loss': [1.8333399295806885, 1.3932498693466187, 1.3934417963027954, 1.3917362689971924, 1.3923007249832153, 1.392105221748352, 1.3944283723831177, 1.3933722972869873, 1.39106285572052, 1.3895659446716309], 'accuracy': [0.24986883997917175, 0.25518372654914856, 0.2504391074180603, 0.2494354397058487, 0.2511690557003021, 0.25078126788139343, 0.2489335983991623, 0.25506967306137085, 0.24973197281360626, 0.2509409487247467], 'val_loss': [1.3991132974624634, 1.387266993522644, 1.3889610767364502, 1.3904740810394287, 1.3988231420516968, 1.3923845291137695, 1.3887990713119507, 1.3883826732635498, 1.3897500038146973, 1.3876972198486328], 'val_accuracy': [0.24883657693862915, 0.25225841999053955, 0.24404598772525787, 0.24883657693862915, 0.2548590302467346, 0.24883657693862915, 0.24883657693862915, 0.25225841999053955, 0.24883657693862915, 0.24404598772525787]}\n"
          ]
        },
        {
          "name": "stderr",
          "output_type": "stream",
          "text": [
            "/opt/homebrew/lib/python3.11/site-packages/sklearn/metrics/_classification.py:1344: UndefinedMetricWarning: Precision and F-score are ill-defined and being set to 0.0 in labels with no predicted samples. Use `zero_division` parameter to control this behavior.\n",
            "  _warn_prf(average, modifier, msg_start, len(result))\n",
            "/opt/homebrew/lib/python3.11/site-packages/sklearn/metrics/_classification.py:1344: UndefinedMetricWarning: Precision and F-score are ill-defined and being set to 0.0 in labels with no predicted samples. Use `zero_division` parameter to control this behavior.\n",
            "  _warn_prf(average, modifier, msg_start, len(result))\n",
            "/opt/homebrew/lib/python3.11/site-packages/sklearn/metrics/_classification.py:1344: UndefinedMetricWarning: Precision and F-score are ill-defined and being set to 0.0 in labels with no predicted samples. Use `zero_division` parameter to control this behavior.\n",
            "  _warn_prf(average, modifier, msg_start, len(result))\n",
            "/opt/homebrew/lib/python3.11/site-packages/tensorflow/python/data/ops/structured_function.py:258: UserWarning: Even though the `tf.config.experimental_run_functions_eagerly` option is set, this option does not apply to tf.data functions. To force eager execution of tf.data functions, please use `tf.data.experimental.enable_debug_mode()`.\n",
            "  warnings.warn(\n"
          ]
        },
        {
          "name": "stdout",
          "output_type": "stream",
          "text": [
            "Fitting the  36 / 48  model\n",
            "{'loss': [1.8004727363586426, 1.390163779258728, 1.393835425376892, 1.3935809135437012, 1.3910330533981323, 1.3942800760269165, 1.3914426565170288, 1.3898457288742065, 1.3919035196304321, 1.3898085355758667], 'accuracy': [0.25153401494026184, 0.24706311523914337, 0.25075846910476685, 0.24945823848247528, 0.2501882016658783, 0.25103217363357544, 0.2506900131702423, 0.24998289346694946, 0.2526061236858368, 0.24881954491138458], 'val_loss': [1.3937140703201294, 1.3878430128097534, 1.3956490755081177, 1.394144058227539, 1.3956429958343506, 1.3905009031295776, 1.3957650661468506, 1.390552282333374, 1.388168215751648, 1.3906394243240356], 'val_accuracy': [0.24404598772525787, 0.24404598772525787, 0.25225841999053955, 0.24883657693862915, 0.2548590302467346, 0.24883657693862915, 0.24883657693862915, 0.2548590302467346, 0.24883657693862915, 0.24883657693862915]}\n"
          ]
        },
        {
          "name": "stderr",
          "output_type": "stream",
          "text": [
            "/opt/homebrew/lib/python3.11/site-packages/sklearn/metrics/_classification.py:1344: UndefinedMetricWarning: Precision and F-score are ill-defined and being set to 0.0 in labels with no predicted samples. Use `zero_division` parameter to control this behavior.\n",
            "  _warn_prf(average, modifier, msg_start, len(result))\n",
            "/opt/homebrew/lib/python3.11/site-packages/sklearn/metrics/_classification.py:1344: UndefinedMetricWarning: Precision and F-score are ill-defined and being set to 0.0 in labels with no predicted samples. Use `zero_division` parameter to control this behavior.\n",
            "  _warn_prf(average, modifier, msg_start, len(result))\n",
            "/opt/homebrew/lib/python3.11/site-packages/sklearn/metrics/_classification.py:1344: UndefinedMetricWarning: Precision and F-score are ill-defined and being set to 0.0 in labels with no predicted samples. Use `zero_division` parameter to control this behavior.\n",
            "  _warn_prf(average, modifier, msg_start, len(result))\n",
            "/opt/homebrew/lib/python3.11/site-packages/tensorflow/python/data/ops/structured_function.py:258: UserWarning: Even though the `tf.config.experimental_run_functions_eagerly` option is set, this option does not apply to tf.data functions. To force eager execution of tf.data functions, please use `tf.data.experimental.enable_debug_mode()`.\n",
            "  warnings.warn(\n"
          ]
        },
        {
          "name": "stdout",
          "output_type": "stream",
          "text": [
            "Fitting the  37 / 48  model\n",
            "{'loss': [1.7939605712890625, 1.4023549556732178, 1.3935467004776, 1.3888624906539917, 1.3877248764038086, 1.3952869176864624, 1.389642357826233, 1.3884878158569336, 1.3911241292953491, 1.3874142169952393], 'accuracy': [0.2479071170091629, 0.2485458105802536, 0.24724560976028442, 0.24749651551246643, 0.24884235858917236, 0.24738246202468872, 0.250553160905838, 0.24820365011692047, 0.25098657608032227, 0.2479071170091629], 'val_loss': [1.4297832250595093, 1.3983064889907837, 1.3907554149627686, 1.3866602182388306, 1.394019365310669, 1.388492226600647, 1.3882598876953125, 1.387006402015686, 1.3872168064117432, 1.387366771697998], 'val_accuracy': [0.2548590302467346, 0.24883657693862915, 0.24883657693862915, 0.2548590302467346, 0.25225841999053955, 0.24883657693862915, 0.2548590302467346, 0.24404598772525787, 0.24883657693862915, 0.24883657693862915]}\n"
          ]
        },
        {
          "name": "stderr",
          "output_type": "stream",
          "text": [
            "/opt/homebrew/lib/python3.11/site-packages/sklearn/metrics/_classification.py:1344: UndefinedMetricWarning: Precision and F-score are ill-defined and being set to 0.0 in labels with no predicted samples. Use `zero_division` parameter to control this behavior.\n",
            "  _warn_prf(average, modifier, msg_start, len(result))\n",
            "/opt/homebrew/lib/python3.11/site-packages/sklearn/metrics/_classification.py:1344: UndefinedMetricWarning: Precision and F-score are ill-defined and being set to 0.0 in labels with no predicted samples. Use `zero_division` parameter to control this behavior.\n",
            "  _warn_prf(average, modifier, msg_start, len(result))\n",
            "/opt/homebrew/lib/python3.11/site-packages/sklearn/metrics/_classification.py:1344: UndefinedMetricWarning: Precision and F-score are ill-defined and being set to 0.0 in labels with no predicted samples. Use `zero_division` parameter to control this behavior.\n",
            "  _warn_prf(average, modifier, msg_start, len(result))\n",
            "/opt/homebrew/lib/python3.11/site-packages/tensorflow/python/data/ops/structured_function.py:258: UserWarning: Even though the `tf.config.experimental_run_functions_eagerly` option is set, this option does not apply to tf.data functions. To force eager execution of tf.data functions, please use `tf.data.experimental.enable_debug_mode()`.\n",
            "  warnings.warn(\n"
          ]
        },
        {
          "name": "stdout",
          "output_type": "stream",
          "text": [
            "Fitting the  38 / 48  model\n",
            "{'loss': [1.704572081565857, 1.3952425718307495, 1.390755534172058, 1.3905161619186401, 1.391608476638794, 1.3926723003387451, 1.3903530836105347, 1.389479637145996, 1.3890798091888428, 1.391440749168396], 'accuracy': [0.25098657608032227, 0.24494171142578125, 0.250553160905838, 0.2498003989458084, 0.24621911346912384, 0.24964073300361633, 0.25014257431030273, 0.2501653730869293, 0.24897922575473785, 0.24973197281360626], 'val_loss': [1.41571044921875, 1.3885729312896729, 1.3869389295578003, 1.3877671957015991, 1.3908458948135376, 1.3910337686538696, 1.391396403312683, 1.3880788087844849, 1.3878780603408813, 1.391385793685913], 'val_accuracy': [0.24404598772525787, 0.24404598772525787, 0.2548590302467346, 0.24883657693862915, 0.24404598772525787, 0.25225841999053955, 0.24404598772525787, 0.24883657693862915, 0.24404598772525787, 0.25225841999053955]}\n"
          ]
        },
        {
          "name": "stderr",
          "output_type": "stream",
          "text": [
            "/opt/homebrew/lib/python3.11/site-packages/sklearn/metrics/_classification.py:1344: UndefinedMetricWarning: Precision and F-score are ill-defined and being set to 0.0 in labels with no predicted samples. Use `zero_division` parameter to control this behavior.\n",
            "  _warn_prf(average, modifier, msg_start, len(result))\n",
            "/opt/homebrew/lib/python3.11/site-packages/sklearn/metrics/_classification.py:1344: UndefinedMetricWarning: Precision and F-score are ill-defined and being set to 0.0 in labels with no predicted samples. Use `zero_division` parameter to control this behavior.\n",
            "  _warn_prf(average, modifier, msg_start, len(result))\n",
            "/opt/homebrew/lib/python3.11/site-packages/sklearn/metrics/_classification.py:1344: UndefinedMetricWarning: Precision and F-score are ill-defined and being set to 0.0 in labels with no predicted samples. Use `zero_division` parameter to control this behavior.\n",
            "  _warn_prf(average, modifier, msg_start, len(result))\n",
            "/opt/homebrew/lib/python3.11/site-packages/tensorflow/python/data/ops/structured_function.py:258: UserWarning: Even though the `tf.config.experimental_run_functions_eagerly` option is set, this option does not apply to tf.data functions. To force eager execution of tf.data functions, please use `tf.data.experimental.enable_debug_mode()`.\n",
            "  warnings.warn(\n"
          ]
        },
        {
          "name": "stdout",
          "output_type": "stream",
          "text": [
            "Fitting the  39 / 48  model\n",
            "{'loss': [1.7312091588974, 1.3970645666122437, 1.3932764530181885, 1.391964316368103, 1.3931355476379395, 1.388447880744934, 1.3907554149627686, 1.3911727666854858, 1.39213228225708, 1.389666199684143], 'accuracy': [0.2515568435192108, 0.250553160905838, 0.24788430333137512, 0.2502110004425049, 0.24950386583805084, 0.24831770360469818, 0.24902483820915222, 0.2515796422958374, 0.24961791932582855, 0.25112342834472656], 'val_loss': [1.4237972497940063, 1.3910714387893677, 1.39010488986969, 1.3900302648544312, 1.3883931636810303, 1.3890966176986694, 1.3884629011154175, 1.3913536071777344, 1.390066385269165, 1.3882946968078613], 'val_accuracy': [0.25225841999053955, 0.2548590302467346, 0.2548590302467346, 0.2548590302467346, 0.25225841999053955, 0.24883657693862915, 0.24883657693862915, 0.24883657693862915, 0.24883657693862915, 0.24883657693862915]}\n"
          ]
        },
        {
          "name": "stderr",
          "output_type": "stream",
          "text": [
            "/opt/homebrew/lib/python3.11/site-packages/sklearn/metrics/_classification.py:1344: UndefinedMetricWarning: Precision and F-score are ill-defined and being set to 0.0 in labels with no predicted samples. Use `zero_division` parameter to control this behavior.\n",
            "  _warn_prf(average, modifier, msg_start, len(result))\n",
            "/opt/homebrew/lib/python3.11/site-packages/sklearn/metrics/_classification.py:1344: UndefinedMetricWarning: Precision and F-score are ill-defined and being set to 0.0 in labels with no predicted samples. Use `zero_division` parameter to control this behavior.\n",
            "  _warn_prf(average, modifier, msg_start, len(result))\n",
            "/opt/homebrew/lib/python3.11/site-packages/sklearn/metrics/_classification.py:1344: UndefinedMetricWarning: Precision and F-score are ill-defined and being set to 0.0 in labels with no predicted samples. Use `zero_division` parameter to control this behavior.\n",
            "  _warn_prf(average, modifier, msg_start, len(result))\n",
            "/opt/homebrew/lib/python3.11/site-packages/tensorflow/python/data/ops/structured_function.py:258: UserWarning: Even though the `tf.config.experimental_run_functions_eagerly` option is set, this option does not apply to tf.data functions. To force eager execution of tf.data functions, please use `tf.data.experimental.enable_debug_mode()`.\n",
            "  warnings.warn(\n"
          ]
        },
        {
          "name": "stdout",
          "output_type": "stream",
          "text": [
            "Fitting the  40 / 48  model\n",
            "{'loss': [1.7574701309204102, 1.4011708498001099, 1.3926702737808228, 1.3925453424453735, 1.3889342546463013, 1.394997477531433, 1.3907901048660278, 1.3921903371810913, 1.389222264289856, 1.3904681205749512], 'accuracy': [0.2480439841747284, 0.2489107847213745, 0.2500513195991516, 0.24669814109802246, 0.247542142868042, 0.25226396322250366, 0.25039348006248474, 0.25228676199913025, 0.2505303621292114, 0.2514427900314331], 'val_loss': [1.4344887733459473, 1.3934403657913208, 1.394167423248291, 1.390551209449768, 1.3916075229644775, 1.3912140130996704, 1.3893309831619263, 1.3928155899047852, 1.3870304822921753, 1.3886245489120483], 'val_accuracy': [0.24883657693862915, 0.24883657693862915, 0.24883657693862915, 0.24404598772525787, 0.24404598772525787, 0.24883657693862915, 0.24404598772525787, 0.2548590302467346, 0.25225841999053955, 0.24883657693862915]}\n"
          ]
        },
        {
          "name": "stderr",
          "output_type": "stream",
          "text": [
            "/opt/homebrew/lib/python3.11/site-packages/sklearn/metrics/_classification.py:1344: UndefinedMetricWarning: Precision and F-score are ill-defined and being set to 0.0 in labels with no predicted samples. Use `zero_division` parameter to control this behavior.\n",
            "  _warn_prf(average, modifier, msg_start, len(result))\n",
            "/opt/homebrew/lib/python3.11/site-packages/sklearn/metrics/_classification.py:1344: UndefinedMetricWarning: Precision and F-score are ill-defined and being set to 0.0 in labels with no predicted samples. Use `zero_division` parameter to control this behavior.\n",
            "  _warn_prf(average, modifier, msg_start, len(result))\n",
            "/opt/homebrew/lib/python3.11/site-packages/sklearn/metrics/_classification.py:1344: UndefinedMetricWarning: Precision and F-score are ill-defined and being set to 0.0 in labels with no predicted samples. Use `zero_division` parameter to control this behavior.\n",
            "  _warn_prf(average, modifier, msg_start, len(result))\n",
            "/opt/homebrew/lib/python3.11/site-packages/tensorflow/python/data/ops/structured_function.py:258: UserWarning: Even though the `tf.config.experimental_run_functions_eagerly` option is set, this option does not apply to tf.data functions. To force eager execution of tf.data functions, please use `tf.data.experimental.enable_debug_mode()`.\n",
            "  warnings.warn(\n"
          ]
        },
        {
          "name": "stdout",
          "output_type": "stream",
          "text": [
            "Fitting the  41 / 48  model\n",
            "{'loss': [1.747079849243164, 1.4094905853271484, 1.3945071697235107, 1.3916980028152466, 1.389394998550415, 1.3915494680404663, 1.391301155090332, 1.3911278247833252, 1.3905198574066162, 1.389107584953308], 'accuracy': [0.24875111877918243, 0.2519446015357971, 0.24749651551246643, 0.24585415422916412, 0.2446223646402359, 0.25356417894363403, 0.24911607801914215, 0.2500741481781006, 0.249572291970253, 0.24895641207695007], 'val_loss': [1.4406459331512451, 1.3970366716384888, 1.3948638439178467, 1.388208031654358, 1.393803596496582, 1.3873271942138672, 1.3914443254470825, 1.3930391073226929, 1.3887982368469238, 1.3874913454055786], 'val_accuracy': [0.24883657693862915, 0.24883657693862915, 0.24883657693862915, 0.25225841999053955, 0.24883657693862915, 0.24404598772525787, 0.25225841999053955, 0.24883657693862915, 0.24883657693862915, 0.24404598772525787]}\n"
          ]
        },
        {
          "name": "stderr",
          "output_type": "stream",
          "text": [
            "/opt/homebrew/lib/python3.11/site-packages/sklearn/metrics/_classification.py:1344: UndefinedMetricWarning: Precision and F-score are ill-defined and being set to 0.0 in labels with no predicted samples. Use `zero_division` parameter to control this behavior.\n",
            "  _warn_prf(average, modifier, msg_start, len(result))\n",
            "/opt/homebrew/lib/python3.11/site-packages/sklearn/metrics/_classification.py:1344: UndefinedMetricWarning: Precision and F-score are ill-defined and being set to 0.0 in labels with no predicted samples. Use `zero_division` parameter to control this behavior.\n",
            "  _warn_prf(average, modifier, msg_start, len(result))\n",
            "/opt/homebrew/lib/python3.11/site-packages/sklearn/metrics/_classification.py:1344: UndefinedMetricWarning: Precision and F-score are ill-defined and being set to 0.0 in labels with no predicted samples. Use `zero_division` parameter to control this behavior.\n",
            "  _warn_prf(average, modifier, msg_start, len(result))\n"
          ]
        },
        {
          "name": "stdout",
          "output_type": "stream",
          "text": [
            "Fitting the  42 / 48  model\n"
          ]
        },
        {
          "name": "stderr",
          "output_type": "stream",
          "text": [
            "/opt/homebrew/lib/python3.11/site-packages/tensorflow/python/data/ops/structured_function.py:258: UserWarning: Even though the `tf.config.experimental_run_functions_eagerly` option is set, this option does not apply to tf.data functions. To force eager execution of tf.data functions, please use `tf.data.experimental.enable_debug_mode()`.\n",
            "  warnings.warn(\n"
          ]
        },
        {
          "name": "stdout",
          "output_type": "stream",
          "text": [
            "{'loss': [1.6848188638687134, 1.4041316509246826, 1.3916906118392944, 1.3902469873428345, 1.3920958042144775, 1.390837550163269, 1.3910616636276245, 1.390197515487671, 1.3887745141983032, 1.391330361366272], 'accuracy': [0.2498232126235962, 0.2475193291902542, 0.24952667951583862, 0.24863706529140472, 0.24767901003360748, 0.24996007978916168, 0.24617350101470947, 0.24507857859134674, 0.2514427900314331, 0.25214990973472595], 'val_loss': [1.4338128566741943, 1.3934682607650757, 1.3888537883758545, 1.3895092010498047, 1.3910200595855713, 1.3910276889801025, 1.3958418369293213, 1.3870412111282349, 1.386901617050171, 1.390377402305603], 'val_accuracy': [0.24404598772525787, 0.24883657693862915, 0.24404598772525787, 0.25225841999053955, 0.24883657693862915, 0.24404598772525787, 0.24404598772525787, 0.2548590302467346, 0.24883657693862915, 0.24883657693862915]}\n"
          ]
        },
        {
          "name": "stderr",
          "output_type": "stream",
          "text": [
            "/opt/homebrew/lib/python3.11/site-packages/sklearn/metrics/_classification.py:1344: UndefinedMetricWarning: Precision and F-score are ill-defined and being set to 0.0 in labels with no predicted samples. Use `zero_division` parameter to control this behavior.\n",
            "  _warn_prf(average, modifier, msg_start, len(result))\n",
            "/opt/homebrew/lib/python3.11/site-packages/sklearn/metrics/_classification.py:1344: UndefinedMetricWarning: Precision and F-score are ill-defined and being set to 0.0 in labels with no predicted samples. Use `zero_division` parameter to control this behavior.\n",
            "  _warn_prf(average, modifier, msg_start, len(result))\n",
            "/opt/homebrew/lib/python3.11/site-packages/sklearn/metrics/_classification.py:1344: UndefinedMetricWarning: Precision and F-score are ill-defined and being set to 0.0 in labels with no predicted samples. Use `zero_division` parameter to control this behavior.\n",
            "  _warn_prf(average, modifier, msg_start, len(result))\n",
            "/opt/homebrew/lib/python3.11/site-packages/tensorflow/python/data/ops/structured_function.py:258: UserWarning: Even though the `tf.config.experimental_run_functions_eagerly` option is set, this option does not apply to tf.data functions. To force eager execution of tf.data functions, please use `tf.data.experimental.enable_debug_mode()`.\n",
            "  warnings.warn(\n"
          ]
        },
        {
          "name": "stdout",
          "output_type": "stream",
          "text": [
            "Fitting the  43 / 48  model\n",
            "{'loss': [1.7354304790496826, 1.4156543016433716, 1.3910983800888062, 1.3928046226501465, 1.388783574104309, 1.3907960653305054, 1.3907610177993774, 1.3897888660430908, 1.3884851932525635, 1.3909720182418823], 'accuracy': [0.24875111877918243, 0.2523552179336548, 0.24852301180362701, 0.24900202453136444, 0.2481580376625061, 0.25192180275917053, 0.250302255153656, 0.24852301180362701, 0.24920733273029327, 0.25217270851135254], 'val_loss': [1.4501601457595825, 1.3926771879196167, 1.3888221979141235, 1.3887746334075928, 1.3908720016479492, 1.389033555984497, 1.3881127834320068, 1.388258934020996, 1.3957152366638184, 1.3874694108963013], 'val_accuracy': [0.25225841999053955, 0.25225841999053955, 0.25225841999053955, 0.25225841999053955, 0.24404598772525787, 0.24883657693862915, 0.25225841999053955, 0.24883657693862915, 0.24404598772525787, 0.24404598772525787]}\n"
          ]
        },
        {
          "name": "stderr",
          "output_type": "stream",
          "text": [
            "/opt/homebrew/lib/python3.11/site-packages/sklearn/metrics/_classification.py:1344: UndefinedMetricWarning: Precision and F-score are ill-defined and being set to 0.0 in labels with no predicted samples. Use `zero_division` parameter to control this behavior.\n",
            "  _warn_prf(average, modifier, msg_start, len(result))\n",
            "/opt/homebrew/lib/python3.11/site-packages/sklearn/metrics/_classification.py:1344: UndefinedMetricWarning: Precision and F-score are ill-defined and being set to 0.0 in labels with no predicted samples. Use `zero_division` parameter to control this behavior.\n",
            "  _warn_prf(average, modifier, msg_start, len(result))\n",
            "/opt/homebrew/lib/python3.11/site-packages/sklearn/metrics/_classification.py:1344: UndefinedMetricWarning: Precision and F-score are ill-defined and being set to 0.0 in labels with no predicted samples. Use `zero_division` parameter to control this behavior.\n",
            "  _warn_prf(average, modifier, msg_start, len(result))\n",
            "/opt/homebrew/lib/python3.11/site-packages/tensorflow/python/data/ops/structured_function.py:258: UserWarning: Even though the `tf.config.experimental_run_functions_eagerly` option is set, this option does not apply to tf.data functions. To force eager execution of tf.data functions, please use `tf.data.experimental.enable_debug_mode()`.\n",
            "  warnings.warn(\n"
          ]
        },
        {
          "name": "stdout",
          "output_type": "stream",
          "text": [
            "Fitting the  44 / 48  model\n",
            "{'loss': [1.7069644927978516, 1.4153521060943604, 1.3921998739242554, 1.3898630142211914, 1.3919066190719604, 1.393025517463684, 1.3906731605529785, 1.388075351715088, 1.390325665473938, 1.3915067911148071], 'accuracy': [0.24747371673583984, 0.24900202453136444, 0.24989165365695953, 0.24697187542915344, 0.2477930635213852, 0.24909327924251556, 0.25073564052581787, 0.2498232126235962, 0.2486598640680313, 0.2500513195991516], 'val_loss': [1.4487205743789673, 1.3925275802612305, 1.3900712728500366, 1.3915774822235107, 1.391257882118225, 1.390768051147461, 1.3867816925048828, 1.390715479850769, 1.388319492340088, 1.38754403591156], 'val_accuracy': [0.24883657693862915, 0.24404598772525787, 0.24404598772525787, 0.2548590302467346, 0.24404598772525787, 0.24404598772525787, 0.24404598772525787, 0.24404598772525787, 0.24883657693862915, 0.24883657693862915]}\n"
          ]
        },
        {
          "name": "stderr",
          "output_type": "stream",
          "text": [
            "/opt/homebrew/lib/python3.11/site-packages/sklearn/metrics/_classification.py:1344: UndefinedMetricWarning: Precision and F-score are ill-defined and being set to 0.0 in labels with no predicted samples. Use `zero_division` parameter to control this behavior.\n",
            "  _warn_prf(average, modifier, msg_start, len(result))\n",
            "/opt/homebrew/lib/python3.11/site-packages/sklearn/metrics/_classification.py:1344: UndefinedMetricWarning: Precision and F-score are ill-defined and being set to 0.0 in labels with no predicted samples. Use `zero_division` parameter to control this behavior.\n",
            "  _warn_prf(average, modifier, msg_start, len(result))\n",
            "/opt/homebrew/lib/python3.11/site-packages/sklearn/metrics/_classification.py:1344: UndefinedMetricWarning: Precision and F-score are ill-defined and being set to 0.0 in labels with no predicted samples. Use `zero_division` parameter to control this behavior.\n",
            "  _warn_prf(average, modifier, msg_start, len(result))\n",
            "/opt/homebrew/lib/python3.11/site-packages/tensorflow/python/data/ops/structured_function.py:258: UserWarning: Even though the `tf.config.experimental_run_functions_eagerly` option is set, this option does not apply to tf.data functions. To force eager execution of tf.data functions, please use `tf.data.experimental.enable_debug_mode()`.\n",
            "  warnings.warn(\n"
          ]
        },
        {
          "name": "stdout",
          "output_type": "stream",
          "text": [
            "Fitting the  45 / 48  model\n",
            "{'loss': [1.6589088439941406, 1.4064689874649048, 1.3948664665222168, 1.389388084411621, 1.3902561664581299, 1.389453649520874, 1.3879324197769165, 1.3889541625976562, 1.3888568878173828, 1.390183448791504], 'accuracy': [0.2494126260280609, 0.24674376845359802, 0.25381508469581604, 0.2452382594347, 0.24861425161361694, 0.2460138201713562, 0.24838614463806152, 0.25023379921913147, 0.2514427900314331, 0.2467665821313858], 'val_loss': [1.4272359609603882, 1.3925353288650513, 1.3903659582138062, 1.3873602151870728, 1.387424349784851, 1.3888931274414062, 1.3868606090545654, 1.389957308769226, 1.390089988708496, 1.3898543119430542], 'val_accuracy': [0.2548590302467346, 0.24883657693862915, 0.24404598772525787, 0.24883657693862915, 0.25225841999053955, 0.24883657693862915, 0.24883657693862915, 0.2548590302467346, 0.24883657693862915, 0.24883657693862915]}\n"
          ]
        },
        {
          "name": "stderr",
          "output_type": "stream",
          "text": [
            "/opt/homebrew/lib/python3.11/site-packages/sklearn/metrics/_classification.py:1344: UndefinedMetricWarning: Precision and F-score are ill-defined and being set to 0.0 in labels with no predicted samples. Use `zero_division` parameter to control this behavior.\n",
            "  _warn_prf(average, modifier, msg_start, len(result))\n",
            "/opt/homebrew/lib/python3.11/site-packages/sklearn/metrics/_classification.py:1344: UndefinedMetricWarning: Precision and F-score are ill-defined and being set to 0.0 in labels with no predicted samples. Use `zero_division` parameter to control this behavior.\n",
            "  _warn_prf(average, modifier, msg_start, len(result))\n",
            "/opt/homebrew/lib/python3.11/site-packages/sklearn/metrics/_classification.py:1344: UndefinedMetricWarning: Precision and F-score are ill-defined and being set to 0.0 in labels with no predicted samples. Use `zero_division` parameter to control this behavior.\n",
            "  _warn_prf(average, modifier, msg_start, len(result))\n",
            "/opt/homebrew/lib/python3.11/site-packages/tensorflow/python/data/ops/structured_function.py:258: UserWarning: Even though the `tf.config.experimental_run_functions_eagerly` option is set, this option does not apply to tf.data functions. To force eager execution of tf.data functions, please use `tf.data.experimental.enable_debug_mode()`.\n",
            "  warnings.warn(\n"
          ]
        },
        {
          "name": "stdout",
          "output_type": "stream",
          "text": [
            "Fitting the  46 / 48  model\n",
            "{'loss': [1.677850365638733, 1.4143458604812622, 1.3933968544006348, 1.3915852308273315, 1.3888849020004272, 1.3900707960128784, 1.3875031471252441, 1.3900467157363892, 1.3911064863204956, 1.3878939151763916], 'accuracy': [0.2510550022125244, 0.2479071170091629, 0.2523552179336548, 0.2502110004425049, 0.24783867597579956, 0.24923013150691986, 0.2520814836025238, 0.24836333096027374, 0.2509409487247467, 0.25087252259254456], 'val_loss': [1.4349488019943237, 1.3959534168243408, 1.3894025087356567, 1.3902431726455688, 1.389290452003479, 1.3912590742111206, 1.3868964910507202, 1.3901573419570923, 1.3915950059890747, 1.3870387077331543], 'val_accuracy': [0.24883657693862915, 0.2503421902656555, 0.25225841999053955, 0.24404598772525787, 0.24883657693862915, 0.25225841999053955, 0.24883657693862915, 0.24883657693862915, 0.24883657693862915, 0.24883657693862915]}\n"
          ]
        },
        {
          "name": "stderr",
          "output_type": "stream",
          "text": [
            "/opt/homebrew/lib/python3.11/site-packages/sklearn/metrics/_classification.py:1344: UndefinedMetricWarning: Precision and F-score are ill-defined and being set to 0.0 in labels with no predicted samples. Use `zero_division` parameter to control this behavior.\n",
            "  _warn_prf(average, modifier, msg_start, len(result))\n",
            "/opt/homebrew/lib/python3.11/site-packages/sklearn/metrics/_classification.py:1344: UndefinedMetricWarning: Precision and F-score are ill-defined and being set to 0.0 in labels with no predicted samples. Use `zero_division` parameter to control this behavior.\n",
            "  _warn_prf(average, modifier, msg_start, len(result))\n",
            "/opt/homebrew/lib/python3.11/site-packages/sklearn/metrics/_classification.py:1344: UndefinedMetricWarning: Precision and F-score are ill-defined and being set to 0.0 in labels with no predicted samples. Use `zero_division` parameter to control this behavior.\n",
            "  _warn_prf(average, modifier, msg_start, len(result))\n",
            "/opt/homebrew/lib/python3.11/site-packages/tensorflow/python/data/ops/structured_function.py:258: UserWarning: Even though the `tf.config.experimental_run_functions_eagerly` option is set, this option does not apply to tf.data functions. To force eager execution of tf.data functions, please use `tf.data.experimental.enable_debug_mode()`.\n",
            "  warnings.warn(\n"
          ]
        },
        {
          "name": "stdout",
          "output_type": "stream",
          "text": [
            "Fitting the  47 / 48  model\n",
            "{'loss': [1.668091058731079, 1.4172357320785522, 1.3948005437850952, 1.392248272895813, 1.3919968605041504, 1.390043020248413, 1.3888972997665405, 1.3888648748397827, 1.3922079801559448, 1.3882266283035278], 'accuracy': [0.2501653730869293, 0.24977760016918182, 0.25212711095809937, 0.2499372661113739, 0.25278860330581665, 0.24786148965358734, 0.2496635466814041, 0.2520814836025238, 0.2529482841491699, 0.2484317570924759], 'val_loss': [1.4338364601135254, 1.4001961946487427, 1.3894158601760864, 1.3917572498321533, 1.3912466764450073, 1.3880548477172852, 1.3886079788208008, 1.3907032012939453, 1.3886783123016357, 1.3866820335388184], 'val_accuracy': [0.24883657693862915, 0.24404598772525787, 0.24883657693862915, 0.25225841999053955, 0.24883657693862915, 0.24883657693862915, 0.24404598772525787, 0.24883657693862915, 0.25225841999053955, 0.25225841999053955]}\n"
          ]
        },
        {
          "name": "stderr",
          "output_type": "stream",
          "text": [
            "/opt/homebrew/lib/python3.11/site-packages/sklearn/metrics/_classification.py:1344: UndefinedMetricWarning: Precision and F-score are ill-defined and being set to 0.0 in labels with no predicted samples. Use `zero_division` parameter to control this behavior.\n",
            "  _warn_prf(average, modifier, msg_start, len(result))\n",
            "/opt/homebrew/lib/python3.11/site-packages/sklearn/metrics/_classification.py:1344: UndefinedMetricWarning: Precision and F-score are ill-defined and being set to 0.0 in labels with no predicted samples. Use `zero_division` parameter to control this behavior.\n",
            "  _warn_prf(average, modifier, msg_start, len(result))\n",
            "/opt/homebrew/lib/python3.11/site-packages/sklearn/metrics/_classification.py:1344: UndefinedMetricWarning: Precision and F-score are ill-defined and being set to 0.0 in labels with no predicted samples. Use `zero_division` parameter to control this behavior.\n",
            "  _warn_prf(average, modifier, msg_start, len(result))\n",
            "/opt/homebrew/lib/python3.11/site-packages/tensorflow/python/data/ops/structured_function.py:258: UserWarning: Even though the `tf.config.experimental_run_functions_eagerly` option is set, this option does not apply to tf.data functions. To force eager execution of tf.data functions, please use `tf.data.experimental.enable_debug_mode()`.\n",
            "  warnings.warn(\n"
          ]
        },
        {
          "name": "stdout",
          "output_type": "stream",
          "text": [
            "Fitting the  48 / 48  model\n",
            "{'loss': [1.6550631523132324, 1.4181369543075562, 1.3948564529418945, 1.3917492628097534, 1.3894922733306885, 1.3906229734420776, 1.3876641988754272, 1.3893345594406128, 1.3877109289169312, 1.3904227018356323], 'accuracy': [0.2531992197036743, 0.24881954491138458, 0.24881954491138458, 0.24797554314136505, 0.24961791932582855, 0.2505759596824646, 0.24767901003360748, 0.24681219458580017, 0.25073564052581787, 0.24884235858917236], 'val_loss': [1.4336315393447876, 1.4005690813064575, 1.3909105062484741, 1.3893015384674072, 1.3918967247009277, 1.3868112564086914, 1.386736512184143, 1.387364387512207, 1.3873939514160156, 1.3887163400650024], 'val_accuracy': [0.24883657693862915, 0.24883657693862915, 0.2548590302467346, 0.24883657693862915, 0.24404598772525787, 0.25225841999053955, 0.24404598772525787, 0.24883657693862915, 0.25225841999053955, 0.24404598772525787]}\n"
          ]
        },
        {
          "name": "stderr",
          "output_type": "stream",
          "text": [
            "/opt/homebrew/lib/python3.11/site-packages/sklearn/metrics/_classification.py:1344: UndefinedMetricWarning: Precision and F-score are ill-defined and being set to 0.0 in labels with no predicted samples. Use `zero_division` parameter to control this behavior.\n",
            "  _warn_prf(average, modifier, msg_start, len(result))\n",
            "/opt/homebrew/lib/python3.11/site-packages/sklearn/metrics/_classification.py:1344: UndefinedMetricWarning: Precision and F-score are ill-defined and being set to 0.0 in labels with no predicted samples. Use `zero_division` parameter to control this behavior.\n",
            "  _warn_prf(average, modifier, msg_start, len(result))\n",
            "/opt/homebrew/lib/python3.11/site-packages/sklearn/metrics/_classification.py:1344: UndefinedMetricWarning: Precision and F-score are ill-defined and being set to 0.0 in labels with no predicted samples. Use `zero_division` parameter to control this behavior.\n",
            "  _warn_prf(average, modifier, msg_start, len(result))\n"
          ]
        }
      ],
      "source": [
        "# Define the drop out grid\n",
        "dropout_grid = [0.1, 0.5, 0.9]\n",
        "l1_grid = [2**-5, 2**-6, 2**-7, 2**-8]\n",
        "l2_grid = [2**-5, 2**-6, 2**-7, 2**-8]\n",
        "tot = len(dropout_grid) * len(l1_grid) * len(l2_grid)\n",
        "\n",
        "# Variables for the best result\n",
        "scores = []\n",
        "best_history = [] # place holder\n",
        "best_ind = 0\n",
        "best_acc = 0\n",
        "\n",
        "# Loop through each combination\n",
        "pos = 0\n",
        "for ii in dropout_grid:\n",
        "    for jj in l1_grid:\n",
        "        for kk in l2_grid:\n",
        "            pos = pos + 1\n",
        "            print(\"Fitting the \", pos, \"/\", tot , \" model\")\n",
        "            # define the model\n",
        "            curr_model = define_CNN_model(ii, jj, kk)\n",
        "            #curr_model.summary()\n",
        "\n",
        "            # train the model\n",
        "            curr_history = curr_model.fit(training_X, training_y_encoded, epochs = 10,\n",
        "                                          validation_data = (val_X, val_y_encoded), verbose = 0)\n",
        "            print(curr_history.history)\n",
        "            curr_acc = st.mean(curr_history.history['val_accuracy'][5:10])\n",
        "\n",
        "            # get prediction report\n",
        "            y_pred = curr_model.predict(val_X, batch_size=64, verbose=0)\n",
        "            y_pred_bool = np.argmax(y_pred, axis=1)\n",
        "            scores.append(classification_report(val_y, y_pred_bool))\n",
        "\n",
        "            # save the best result\n",
        "            if best_acc < curr_acc:\n",
        "                best_acc = curr_acc\n",
        "                best_ind = pos - 1\n",
        "                best_history = curr_history"
      ]
    },
    {
      "cell_type": "code",
      "execution_count": 37,
      "id": "incident-optimization",
      "metadata": {
        "id": "incident-optimization",
        "outputId": "9b4af2a5-febd-429b-f1de-bacb759cc2c6"
      },
      "outputs": [
        {
          "name": "stdout",
          "output_type": "stream",
          "text": [
            "Model: \"sequential_71\"\n",
            "_________________________________________________________________\n",
            " Layer (type)                Output Shape              Param #   \n",
            "=================================================================\n",
            " conv1d_71 (Conv1D)          (None, 23, 128)           384       \n",
            "                                                                 \n",
            " max_pooling1d_71 (MaxPooli  (None, 11, 128)           0         \n",
            " ng1D)                                                           \n",
            "                                                                 \n",
            " flatten_71 (Flatten)        (None, 1408)              0         \n",
            "                                                                 \n",
            " dropout_142 (Dropout)       (None, 1408)              0         \n",
            "                                                                 \n",
            " dense_142 (Dense)           (None, 64)                90176     \n",
            "                                                                 \n",
            " dropout_143 (Dropout)       (None, 64)                0         \n",
            "                                                                 \n",
            " dense_143 (Dense)           (None, 4)                 260       \n",
            "                                                                 \n",
            "=================================================================\n",
            "Total params: 90820 (354.77 KB)\n",
            "Trainable params: 90820 (354.77 KB)\n",
            "Non-trainable params: 0 (0.00 Byte)\n",
            "_________________________________________________________________\n"
          ]
        }
      ],
      "source": [
        "# Training a model with ideal hyper-parameters (best_ind = 14)\n",
        "best_model = define_CNN_model(0.1, 0.00390625, 0.015625)\n",
        "best_model.summary()"
      ]
    },
    {
      "cell_type": "code",
      "execution_count": 45,
      "id": "wrapped-peace",
      "metadata": {
        "id": "wrapped-peace",
        "outputId": "11be0338-7ba7-4344-f352-14a5926b632f"
      },
      "outputs": [
        {
          "name": "stdout",
          "output_type": "stream",
          "text": [
            "Epoch 1/30\n",
            "1370/1370 [==============================] - 25s 18ms/step - loss: 0.8417 - accuracy: 0.6402 - val_loss: 0.7730 - val_accuracy: 0.6766\n",
            "Epoch 2/30\n",
            "1370/1370 [==============================] - 27s 20ms/step - loss: 0.8141 - accuracy: 0.6543 - val_loss: 0.7897 - val_accuracy: 0.6606\n",
            "Epoch 3/30\n",
            "1370/1370 [==============================] - 26s 19ms/step - loss: 0.7982 - accuracy: 0.6602 - val_loss: 0.7646 - val_accuracy: 0.6809\n",
            "Epoch 4/30\n",
            "1370/1370 [==============================] - 40s 29ms/step - loss: 0.7856 - accuracy: 0.6663 - val_loss: 0.7356 - val_accuracy: 0.6912\n",
            "Epoch 5/30\n",
            "1370/1370 [==============================] - 24s 18ms/step - loss: 0.7726 - accuracy: 0.6729 - val_loss: 0.7258 - val_accuracy: 0.6953\n",
            "Epoch 6/30\n",
            "1370/1370 [==============================] - 25s 18ms/step - loss: 0.7609 - accuracy: 0.6754 - val_loss: 0.7065 - val_accuracy: 0.7071\n",
            "Epoch 7/30\n",
            "1370/1370 [==============================] - 25s 18ms/step - loss: 0.7503 - accuracy: 0.6836 - val_loss: 0.7110 - val_accuracy: 0.7028\n",
            "Epoch 8/30\n",
            "1370/1370 [==============================] - 24s 17ms/step - loss: 0.7453 - accuracy: 0.6833 - val_loss: 0.6932 - val_accuracy: 0.7056\n",
            "Epoch 9/30\n",
            "1370/1370 [==============================] - 24s 17ms/step - loss: 0.7437 - accuracy: 0.6838 - val_loss: 0.6976 - val_accuracy: 0.7086\n",
            "Epoch 10/30\n",
            "1370/1370 [==============================] - 24s 17ms/step - loss: 0.7372 - accuracy: 0.6870 - val_loss: 0.6801 - val_accuracy: 0.7156\n",
            "Epoch 11/30\n",
            "1370/1370 [==============================] - 23s 17ms/step - loss: 0.7346 - accuracy: 0.6897 - val_loss: 0.6787 - val_accuracy: 0.7235\n",
            "Epoch 12/30\n",
            "1370/1370 [==============================] - 27s 20ms/step - loss: 0.7277 - accuracy: 0.6929 - val_loss: 0.6704 - val_accuracy: 0.7164\n",
            "Epoch 13/30\n",
            "1370/1370 [==============================] - 25s 18ms/step - loss: 0.7278 - accuracy: 0.6940 - val_loss: 0.6781 - val_accuracy: 0.7132\n",
            "Epoch 14/30\n",
            "1370/1370 [==============================] - 25s 18ms/step - loss: 0.7187 - accuracy: 0.6942 - val_loss: 0.6787 - val_accuracy: 0.7172\n",
            "Epoch 15/30\n",
            "1370/1370 [==============================] - 24s 17ms/step - loss: 0.7225 - accuracy: 0.6966 - val_loss: 0.6663 - val_accuracy: 0.7297\n",
            "Epoch 16/30\n",
            "1370/1370 [==============================] - 23s 17ms/step - loss: 0.7161 - accuracy: 0.6957 - val_loss: 0.6782 - val_accuracy: 0.7143\n",
            "Epoch 17/30\n",
            "1370/1370 [==============================] - 23s 17ms/step - loss: 0.7177 - accuracy: 0.6957 - val_loss: 0.6639 - val_accuracy: 0.7301\n",
            "Epoch 18/30\n",
            "1370/1370 [==============================] - 25s 18ms/step - loss: 0.7157 - accuracy: 0.7002 - val_loss: 0.6558 - val_accuracy: 0.7246\n",
            "Epoch 19/30\n",
            "1370/1370 [==============================] - 25s 18ms/step - loss: 0.7060 - accuracy: 0.7023 - val_loss: 0.6557 - val_accuracy: 0.7310\n",
            "Epoch 20/30\n",
            "1370/1370 [==============================] - 23s 17ms/step - loss: 0.7085 - accuracy: 0.7017 - val_loss: 0.6580 - val_accuracy: 0.7224\n",
            "Epoch 21/30\n",
            "1370/1370 [==============================] - 25s 18ms/step - loss: 0.7035 - accuracy: 0.7078 - val_loss: 0.6486 - val_accuracy: 0.7291\n",
            "Epoch 22/30\n",
            "1370/1370 [==============================] - 24s 17ms/step - loss: 0.7035 - accuracy: 0.7056 - val_loss: 0.6632 - val_accuracy: 0.7252\n",
            "Epoch 23/30\n",
            "1370/1370 [==============================] - 23s 16ms/step - loss: 0.7035 - accuracy: 0.7044 - val_loss: 0.6480 - val_accuracy: 0.7284\n",
            "Epoch 24/30\n",
            "1370/1370 [==============================] - 24s 17ms/step - loss: 0.6973 - accuracy: 0.7075 - val_loss: 0.6520 - val_accuracy: 0.7306\n",
            "Epoch 25/30\n",
            "1370/1370 [==============================] - 25s 19ms/step - loss: 0.6952 - accuracy: 0.7074 - val_loss: 0.6554 - val_accuracy: 0.7272\n",
            "Epoch 26/30\n",
            "1370/1370 [==============================] - 24s 18ms/step - loss: 0.7007 - accuracy: 0.7056 - val_loss: 0.6370 - val_accuracy: 0.7362\n",
            "Epoch 27/30\n",
            "1370/1370 [==============================] - 27s 20ms/step - loss: 0.6977 - accuracy: 0.7071 - val_loss: 0.6392 - val_accuracy: 0.7372\n",
            "Epoch 28/30\n",
            "1370/1370 [==============================] - 25s 18ms/step - loss: 0.6975 - accuracy: 0.7092 - val_loss: 0.6480 - val_accuracy: 0.7331\n",
            "Epoch 29/30\n",
            "1370/1370 [==============================] - 28s 20ms/step - loss: 0.6966 - accuracy: 0.7088 - val_loss: 0.6466 - val_accuracy: 0.7353\n",
            "Epoch 30/30\n",
            "1370/1370 [==============================] - 22s 16ms/step - loss: 0.6922 - accuracy: 0.7091 - val_loss: 0.6394 - val_accuracy: 0.7386\n"
          ]
        }
      ],
      "source": [
        "# Fit the model\n",
        "best_history = best_model.fit(training_X, training_y_encoded, epochs = 30, validation_data = (val_X, val_y_encoded), verbose = 1)"
      ]
    },
    {
      "cell_type": "code",
      "execution_count": 51,
      "id": "opening-utilization",
      "metadata": {
        "id": "opening-utilization",
        "outputId": "b7313065-c857-4216-c74c-f3c69322f259"
      },
      "outputs": [
        {
          "name": "stdout",
          "output_type": "stream",
          "text": [
            "{'loss': [0.8417046070098877, 0.8140799403190613, 0.7982196807861328, 0.7856261730194092, 0.7726273536682129, 0.760854184627533, 0.7502908110618591, 0.7452678680419922, 0.7436601519584656, 0.7371921539306641, 0.7345696091651917, 0.727705717086792, 0.7278113961219788, 0.718713641166687, 0.7224774360656738, 0.7161498069763184, 0.7177028059959412, 0.7157135605812073, 0.7060391902923584, 0.7085305452346802, 0.7035494446754456, 0.703493058681488, 0.703528642654419, 0.6972673535346985, 0.6952157616615295, 0.700741708278656, 0.6976989507675171, 0.6975139379501343, 0.6966482400894165, 0.6922268867492676], 'accuracy': [0.6402290463447571, 0.6543260812759399, 0.6601656079292297, 0.6663016676902771, 0.6728711724281311, 0.6753803491592407, 0.6835922598838806, 0.6833413243293762, 0.6837975382804871, 0.6869910359382629, 0.689705491065979, 0.6928533911705017, 0.6940395832061768, 0.694176435470581, 0.6965943574905396, 0.6957047581672668, 0.6956591010093689, 0.7001756429672241, 0.7022742033004761, 0.7016811370849609, 0.7077715992927551, 0.7055589556694031, 0.7043956518173218, 0.7075434923171997, 0.7074294686317444, 0.705604612827301, 0.7070872783660889, 0.7092086672782898, 0.7088209390640259, 0.7090718150138855], 'val_loss': [0.7730439901351929, 0.7897218465805054, 0.7646055221557617, 0.7355812788009644, 0.7258298397064209, 0.7064936757087708, 0.7109751105308533, 0.6932497620582581, 0.6976040601730347, 0.6801187992095947, 0.6787193417549133, 0.6704431176185608, 0.6780791282653809, 0.6787111759185791, 0.6663413047790527, 0.6782352924346924, 0.663912832736969, 0.6558217406272888, 0.6556991338729858, 0.658011257648468, 0.6486057043075562, 0.6632393598556519, 0.6479546427726746, 0.6519585847854614, 0.6554090976715088, 0.6369762420654297, 0.6392167210578918, 0.6479795575141907, 0.646602988243103, 0.6393616795539856], 'val_accuracy': [0.6765671968460083, 0.660552978515625, 0.6809471845626831, 0.6912127137184143, 0.6953189373016357, 0.7070900797843933, 0.7028470039367676, 0.7055844664573669, 0.7085956931114197, 0.7155762314796448, 0.7235149145126343, 0.7163974642753601, 0.7132493853569031, 0.7172186970710754, 0.729674220085144, 0.7143443822860718, 0.7300848364830017, 0.724609911441803, 0.7310429811477661, 0.7224199175834656, 0.7291267514228821, 0.7251573801040649, 0.728442370891571, 0.7306323647499084, 0.727210521697998, 0.7362442016601562, 0.7372022867202759, 0.7330960631370544, 0.7352860569953918, 0.738571047782898]}\n",
            "0.7360799312591553\n"
          ]
        },
        {
          "data": {
            "image/png": "[encoded data removed]",
            "text/plain": [
              "<Figure size 640x480 with 1 Axes>"
            ]
          },
          "metadata": {},
          "output_type": "display_data"
        },
        {
          "data": {
            "image/png": "[encoded data removed]",
            "text/plain": [
              "<Figure size 640x480 with 1 Axes>"
            ]
          },
          "metadata": {},
          "output_type": "display_data"
        }
      ],
      "source": [
        "# Calculate the stat\n",
        "print(best_history.history)\n",
        "curr_acc = st.mean(best_history.history['val_accuracy'][25:30])\n",
        "print(curr_acc)\n",
        "\n",
        "# Plot the fit history\n",
        "plot_history(best_history)"
      ]
    },
    {
      "cell_type": "code",
      "execution_count": 52,
      "id": "abandoned-johnston",
      "metadata": {
        "id": "abandoned-johnston",
        "outputId": "70fe08d4-96d4-40df-b1c7-95f900c44f1f"
      },
      "outputs": [
        {
          "name": "stdout",
          "output_type": "stream",
          "text": [
            "              precision    recall  f1-score   support\n",
            "\n",
            "         0.0       0.59      0.53      0.56      1783\n",
            "         1.0       0.83      0.88      0.85      1843\n",
            "         2.0       0.92      0.91      0.92      1818\n",
            "         3.0       0.60      0.64      0.62      1862\n",
            "\n",
            "    accuracy                           0.74      7306\n",
            "   macro avg       0.74      0.74      0.74      7306\n",
            "weighted avg       0.74      0.74      0.74      7306\n",
            "\n"
          ]
        }
      ],
      "source": [
        "# Get prediction report\n",
        "y_pred = best_model.predict(val_X, batch_size=64, verbose=0)\n",
        "y_pred_bool = np.argmax(y_pred, axis=1)\n",
        "print(classification_report(val_y, y_pred_bool))"
      ]
    },
    {
      "cell_type": "code",
      "execution_count": 53,
      "id": "reported-greenhouse",
      "metadata": {
        "id": "reported-greenhouse"
      },
      "outputs": [],
      "source": [
        "# Get the predictions of the test set given in /TestData\n",
        "subject9_X = create_dataframe_X('TestData/subject_009_01__x.csv', 'TestData/subject_009_01__x_time.csv')\n",
        "subject10_X = create_dataframe_X('TestData/subject_010_01__x.csv', 'TestData/subject_010_01__x_time.csv')\n",
        "subject11_X = create_dataframe_X('TestData/subject_011_01__x.csv', 'TestData/subject_011_01__x_time.csv')\n",
        "subject12_X = create_dataframe_X('TestData/subject_012_01__x.csv', 'TestData/subject_012_01__x_time.csv')\n",
        "\n",
        "subject9_X = subject9_X.drop(columns = ['Time stamp'])\n",
        "subject10_X = subject10_X.drop(columns = ['Time stamp'])\n",
        "subject11_X = subject11_X.drop(columns = ['Time stamp'])\n",
        "subject12_X = subject12_X.drop(columns = ['Time stamp'])\n",
        "\n",
        "item_9_0 = subject9_X.iloc[0::4,].reset_index()\n",
        "item_9_1 = subject9_X.iloc[1::4,].reset_index()\n",
        "item_9_2 = subject9_X.iloc[2::4,].reset_index()\n",
        "item_9_3 = subject9_X.iloc[3::4,].reset_index()\n",
        "new_9_X = pd.concat([item_9_0, item_9_1, item_9_2, item_9_3], axis = 1, ignore_index = True)\n",
        "new_9_X = new_9_X.dropna()\n",
        "new_9_X = new_9_X.drop(columns = [0, 7, 14, 21])\n",
        "\n",
        "item_10_0 = subject10_X.iloc[0::4,].reset_index()\n",
        "item_10_1 = subject10_X.iloc[1::4,].reset_index()\n",
        "item_10_2 = subject10_X.iloc[2::4,].reset_index()\n",
        "item_10_3 = subject10_X.iloc[3::4,].reset_index()\n",
        "new_10_X = pd.concat([item_10_0, item_10_1, item_10_2, item_10_3], axis = 1, ignore_index = True)\n",
        "new_10_X = new_10_X.dropna()\n",
        "new_10_X = new_10_X.drop(columns = [0, 7, 14, 21])\n",
        "\n",
        "item_11_0 = subject11_X.iloc[0::4,].reset_index()\n",
        "item_11_1 = subject11_X.iloc[1::4,].reset_index()\n",
        "item_11_2 = subject11_X.iloc[2::4,].reset_index()\n",
        "item_11_3 = subject11_X.iloc[3::4,].reset_index()\n",
        "new_11_X = pd.concat([item_11_0, item_11_1, item_11_2, item_11_3], axis = 1, ignore_index = True)\n",
        "new_11_X = new_11_X.dropna()\n",
        "new_11_X = new_11_X.drop(columns = [0, 7, 14, 21])\n",
        "\n",
        "item_12_0 = subject12_X.iloc[0::4,].reset_index()\n",
        "item_12_1 = subject12_X.iloc[1::4,].reset_index()\n",
        "item_12_2 = subject12_X.iloc[2::4,].reset_index()\n",
        "item_12_3 = subject12_X.iloc[3::4,].reset_index()\n",
        "new_12_X = pd.concat([item_12_0, item_12_1, item_12_2, item_12_3], axis = 1, ignore_index = True)\n",
        "new_12_X = new_12_X.dropna()\n",
        "new_12_X = new_12_X.drop(columns = [0, 7, 14, 21])\n",
        "\n",
        "# Reshaping input for CNN\n",
        "new_9_X = np.expand_dims(new_9_X, axis = 2)\n",
        "new_10_X = np.expand_dims(new_10_X, axis = 2)\n",
        "new_11_X = np.expand_dims(new_11_X, axis = 2)\n",
        "new_12_X = np.expand_dims(new_12_X, axis = 2)"
      ]
    },
    {
      "cell_type": "code",
      "execution_count": 54,
      "id": "particular-constant",
      "metadata": {
        "id": "particular-constant",
        "outputId": "0eb2b528-f55f-48d4-a2f7-d15037d16b13"
      },
      "outputs": [
        {
          "name": "stderr",
          "output_type": "stream",
          "text": [
            "/opt/homebrew/lib/python3.11/site-packages/tensorflow/python/data/ops/structured_function.py:258: UserWarning: Even though the `tf.config.experimental_run_functions_eagerly` option is set, this option does not apply to tf.data functions. To force eager execution of tf.data functions, please use `tf.data.experimental.enable_debug_mode()`.\n",
            "  warnings.warn(\n"
          ]
        },
        {
          "name": "stdout",
          "output_type": "stream",
          "text": [
            "[0 0 0 ... 0 0 0]\n"
          ]
        }
      ],
      "source": [
        "# Subject 9 Predictions\n",
        "subject9_predictions = best_model.predict(new_9_X, batch_size=64, verbose=0)\n",
        "subject9_pred_bool = np.argmax(subject9_predictions, axis=1)\n",
        "subject9_pred_bool= subject9_pred_bool.reshape((-1,))\n",
        "print(subject9_pred_bool)\n",
        "\n",
        "# Subject 10 Predictions\n",
        "subject10_predictions = best_model.predict(new_10_X, batch_size=64, verbose=0)\n",
        "subject10_pred_bool = np.argmax(subject10_predictions, axis=1)\n",
        "subject10_pred_bool= subject10_pred_bool.reshape((-1,))\n",
        "\n",
        "# Subject 11 Predictions\n",
        "subject11_predictions = best_model.predict(new_11_X, batch_size=64, verbose=0)\n",
        "subject11_pred_bool = np.argmax(subject11_predictions, axis=1)\n",
        "subject11_pred_bool= subject11_pred_bool.reshape((-1,))\n",
        "\n",
        "# Subject 12 Predictions\n",
        "subject12_predictions = best_model.predict(new_12_X, batch_size=64, verbose=0)\n",
        "subject12_pred_bool = np.argmax(subject12_predictions, axis=1)\n",
        "subject12_pred_bool= subject12_pred_bool.reshape((-1,))"
      ]
    },
    {
      "cell_type": "code",
      "execution_count": 50,
      "id": "collective-peter",
      "metadata": {
        "id": "collective-peter"
      },
      "outputs": [],
      "source": [
        "# Saving results to CSV\n",
        "subject9 = pd.DataFrame(subject9_pred_bool)#, index=None\n",
        "# subject9=subject9.drop(columns = [0])\n",
        "subject9.to_csv('C2_predictions/subject_009_01__y_prediction.csv', index=False)\n",
        "\n",
        "subject10 = pd.DataFrame(subject10_pred_bool)\n",
        "# subject10=subject10.drop(columns = [0])\n",
        "subject10.to_csv('C2_predictions/subject_010_01__y_prediction.csv', index=False)\n",
        "\n",
        "subject11 = pd.DataFrame(subject11_pred_bool)\n",
        "# subject11=subject11.drop(columns = [0])\n",
        "subject11.to_csv('C2_predictions/subject_011_01__y_prediction.csv', index=False)\n",
        "\n",
        "subject12 = pd.DataFrame(subject12_pred_bool)\n",
        "# subject12=subject12.drop(columns = [0])\n",
        "subject12.to_csv('C2_predictions/subject_012_01__y_prediction.csv', index=False)"
      ]
    },
    {
      "cell_type": "code",
      "execution_count": null,
      "id": "85ef6a8f",
      "metadata": {},
      "outputs": [],
      "source": []
    }
  ],
  "metadata": {
    "colab": {
      "provenance": []
    },
    "kernelspec": {
      "display_name": "Python 3.11.4 64-bit",
      "language": "python",
      "name": "python3"
    },
    "language_info": {
      "codemirror_mode": {
        "name": "ipython",
        "version": 3
      },
      "file_extension": ".py",
      "mimetype": "text/x-python",
      "name": "python",
      "nbconvert_exporter": "python",
      "pygments_lexer": "ipython3",
      "version": "3.11.4"
    },
    "vscode": {
      "interpreter": {
        "hash": "b0fa6594d8f4cbf19f97940f81e996739fb7646882a419484c72d19e05852a7e"
      }
    }
  },
  "nbformat": 4,
  "nbformat_minor": 5
}
